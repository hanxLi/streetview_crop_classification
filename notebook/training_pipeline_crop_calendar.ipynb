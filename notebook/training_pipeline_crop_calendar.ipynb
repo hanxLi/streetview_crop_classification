{
 "cells": [
  {
   "cell_type": "code",
   "execution_count": 1,
   "metadata": {},
   "outputs": [
    {
     "name": "stdout",
     "output_type": "stream",
     "text": [
      "\u001b[33mWARNING: Running pip as the 'root' user can result in broken permissions and conflicting behaviour with the system package manager, possibly rendering your system unusable.It is recommended to use a virtual environment instead: https://pip.pypa.io/warnings/venv. Use the --root-user-action option if you know what you are doing and want to suppress this warning.\u001b[0m\u001b[33m\n",
      "\u001b[0mNote: you may need to restart the kernel to use updated packages.\n",
      "\u001b[33mWARNING: Running pip as the 'root' user can result in broken permissions and conflicting behaviour with the system package manager, possibly rendering your system unusable.It is recommended to use a virtual environment instead: https://pip.pypa.io/warnings/venv. Use the --root-user-action option if you know what you are doing and want to suppress this warning.\u001b[0m\u001b[33m\n",
      "\u001b[0mNote: you may need to restart the kernel to use updated packages.\n"
     ]
    }
   ],
   "source": [
    "%pip install tensorboard --quiet\n",
    "%pip install seaborn --quiet"
   ]
  },
  {
   "cell_type": "code",
   "execution_count": 1,
   "metadata": {},
   "outputs": [],
   "source": [
    "import sys\n",
    "sys.path.append('/workspace/cropClassification')\n",
    "sys.path.append('/workspace/cropClassification/model')\n",
    "import os\n",
    "# if using Apple MPS, fall back to CPU for unsupported ops\n",
    "os.environ[\"PYTORCH_ENABLE_MPS_FALLBACK\"] = \"1\"\n",
    "import torch\n",
    "import pandas as pd\n",
    "from torch.utils.data import DataLoader\n",
    "\n",
    "from unet_uncertain import UNetWithUncertainty, UNetWithFiLM\n",
    "from compiler import ModelCompiler\n",
    "from dataloader import RoadsideCropImageDataset\n",
    "from loss import AleatoricLoss, BalancedCrossEntropyLoss, BalancedCrossEntropyUncertaintyLoss"
   ]
  },
  {
   "cell_type": "code",
   "execution_count": 2,
   "metadata": {},
   "outputs": [
    {
     "name": "stdout",
     "output_type": "stream",
     "text": [
      "Using CUDA\n"
     ]
    }
   ],
   "source": [
    "if torch.cuda.is_available():\n",
    "    device = torch.device(\"cuda\")  # Use GPU with CUDA\n",
    "    print(\"Using CUDA\")\n",
    "elif torch.backends.mps.is_available():\n",
    "    device = torch.device(\"mps\")  # Use Apple M1/M2 GPU with MPS (Metal Performance Shaders)\n",
    "    print(\"Using MPS\")\n",
    "else:\n",
    "    device = torch.device(\"cpu\")  # Fall back to CPU\n",
    "    print(\"Using CPU\")"
   ]
  },
  {
   "cell_type": "markdown",
   "metadata": {},
   "source": [
    "### Configuration"
   ]
  },
  {
   "cell_type": "code",
   "execution_count": 3,
   "metadata": {},
   "outputs": [],
   "source": [
    "config = {\n",
    "    \"model\": {\n",
    "        \"type\": \"UNetWithUncertainty\",  # Example model type, replace with your actual model class name\n",
    "        \"params\": {\n",
    "            \"in_channels\": 9,  # Since we are using 9-channel input images\n",
    "            \"out_channels\": 3   # Number of output classes for segmentation\n",
    "        }\n",
    "    },\n",
    "    \"training\": {\n",
    "        \"epochs\": 50,\n",
    "        \"batch_size\": 32,\n",
    "        \"learning_rate\": 0.1,\n",
    "        \"optimizer\": {\n",
    "            \"type\": \"Adam\",\n",
    "            \"params\": {\n",
    "                \"lr\": 0.1\n",
    "            }\n",
    "        },\n",
    "        \"scheduler\": {\n",
    "            \"type\": \"StepLR\",\n",
    "            \"params\": {\n",
    "                \"step_size\": 10,\n",
    "                \"gamma\": 0.5\n",
    "            }\n",
    "        },\n",
    "        \"criterion\": AleatoricLoss(), \n",
    "        \"resume\" : False,\n",
    "        \"resume_epoch\" : None,\n",
    "    },\n",
    "    \"validation\": {\n",
    "        \"epochs\": 50,\n",
    "        \"batch_size\": 16\n",
    "    },\n",
    "    \"dataset\": {\n",
    "        \"train_csv\": \"/workspace/data/data/masked_data_csiss/training/train_chipping_csv_w_anc.csv\",  # Path to the training DataFrame (includes npy file paths)\n",
    "        \"val_csv\": \"/workspace/data/data/masked_data_csiss/validation/validation_chipping_csv_w_anc.csv\", # Path to the validation DataFrame (includes npy file paths)\n",
    "        \"train_root_path\": \"/workspace/data/data/masked_data_csiss/training\",\n",
    "        \"val_root_path\": \"/workspace/data/data/masked_data_csiss/validation\",\n",
    "        \"image_column\": \"img_chip_path\",             # Column containing the image paths (npy files)\n",
    "        \"mask_column\": \"lbl_chip_path\",              # Column containing the mask paths\n",
    "        \"train_mean\": [93.8785585, 111.81092494, 76.94555781, 113.58929434, 206.93557473, 28.98472963,\n",
    "                       46.53684269, 113.74437327, 116.23856585],  # Mean values for training set normalization\n",
    "        \"train_std\": [53.24595916, 46.34658429, 45.91157286, 47.69937365, 82.32605363, 48.02506071,\n",
    "                       22.46416468, 52.31732116, 47.89290138],   # Std values for training set normalization\n",
    "        \"val_mean\": [88.62211239, 111.27628711, 75.19030815, 111.99622799, 223.21125121, 25.98495476, \n",
    "                     49.64829283, 115.91463906, 114.01573621],    # Mean values for validation set normalization\n",
    "        \"val_std\": [53.97481266, 46.47043658, 45.64034871, 48.20284577, 59.89659002, 41.7467965,\n",
    "                     20.82148233, 54.41768437, 47.68361442],     # Std values for validation set normalization\n",
    "    },\n",
    "    \"evaluation\": {\n",
    "        \"filename\": \"csiss_street_view_crop_classification.csv\",  # Evaluation metrics to be used\n",
    "        \"class_mapping\": {\n",
    "            0: \"Background\",\n",
    "            1: \"Maize\",\n",
    "            2: \"Soybean\"\n",
    "        }\n",
    "    }\n",
    "}\n"
   ]
  },
  {
   "cell_type": "markdown",
   "metadata": {},
   "source": [
    "### Loading Datasets"
   ]
  },
  {
   "cell_type": "code",
   "execution_count": 4,
   "metadata": {},
   "outputs": [],
   "source": [
    "train_df = pd.read_csv(config['dataset']['train_csv'])\n",
    "val_df = pd.read_csv(config['dataset']['val_csv'])"
   ]
  },
  {
   "cell_type": "code",
   "execution_count": 5,
   "metadata": {},
   "outputs": [],
   "source": [
    "train_dataset = RoadsideCropImageDataset(\n",
    "    dataframe=train_df,\n",
    "    root_dir=config['dataset']['train_root_path'],  # Root directory where images are stored\n",
    "    usage='train',  # Indicates training dataset\n",
    "    mean=config['dataset']['train_mean'],\n",
    "    std=config['dataset']['train_std'],\n",
    "    use_ancillary=True\n",
    ")\n",
    "\n",
    "val_dataset = RoadsideCropImageDataset(\n",
    "    dataframe=val_df,\n",
    "    root_dir=config['dataset']['val_root_path'],  # Root directory where images are stored\n",
    "    usage='val',  # Indicates validation dataset\n",
    "    mean=config['dataset']['val_mean'],\n",
    "    std=config['dataset']['val_std'],\n",
    "    use_ancillary=True\n",
    ")"
   ]
  },
  {
   "cell_type": "code",
   "execution_count": 6,
   "metadata": {},
   "outputs": [],
   "source": [
    "train_loader = DataLoader(train_dataset, batch_size=config['training']['batch_size'], shuffle=True)\n",
    "val_loader = DataLoader(val_dataset, batch_size=config['training']['batch_size'], shuffle=False)"
   ]
  },
  {
   "cell_type": "markdown",
   "metadata": {},
   "source": [
    "### Construct Model and Training"
   ]
  },
  {
   "cell_type": "markdown",
   "metadata": {},
   "source": [
    "##### With Uncertainty"
   ]
  },
  {
   "cell_type": "code",
   "execution_count": null,
   "metadata": {},
   "outputs": [],
   "source": [
    "model = UNetWithUncertainty(n_channels=config['model']['params']['in_channels'],\n",
    "                          n_classes=config['model']['params']['out_channels'],\n",
    "                          ancillary_data_dim=3)\n",
    "model_comp = ModelCompiler(model=model,\n",
    "                           params_init=None)"
   ]
  },
  {
   "cell_type": "code",
   "execution_count": null,
   "metadata": {},
   "outputs": [],
   "source": [
    "model_comp.fit(\n",
    "    trainDataset=train_loader,\n",
    "    valDataset=val_loader,\n",
    "    epochs=config['training']['epochs'],\n",
    "    optimizer_name=config['training']['optimizer']['type'],\n",
    "    lr_init=config['training']['learning_rate'],\n",
    "    lr_policy='steplr',  # Use 'steplr' as specified in config\n",
    "    criterion=config['training']['criterion'],\n",
    "    log=True,  # Enable logging for TensorBoard\n",
    "    return_loss=False,\n",
    "    use_ancillary=True,\n",
    "    use_dropout=False,\n",
    "    **config['training']['scheduler']['params'])"
   ]
  },
  {
   "cell_type": "code",
   "execution_count": 7,
   "metadata": {},
   "outputs": [
    {
     "name": "stdout",
     "output_type": "stream",
     "text": [
      "---------- GPU (CUDA) available ----------\n",
      "Loading model parameters from: /workspace/notebook/outputs/UNetWithUncertainty_ep50/chkpt/50_checkpoint.pth.tar\n",
      "Model parameters loaded successfully.\n",
      "Total number of trainable parameters: 13.4M\n"
     ]
    },
    {
     "name": "stderr",
     "output_type": "stream",
     "text": [
      "/workspace/cropClassification/model/compiler.py:50: FutureWarning: You are using `torch.load` with `weights_only=False` (the current default value), which uses the default pickle module implicitly. It is possible to construct malicious pickle data which will execute arbitrary code during unpickling (See https://github.com/pytorch/pytorch/blob/main/SECURITY.md#untrusted-models for more details). In a future release, the default value for `weights_only` will be flipped to `True`. This limits the functions that could be executed during unpickling. Arbitrary objects will no longer be allowed to be loaded via this mode unless they are explicitly allowlisted by the user via `torch.serialization.add_safe_globals`. We recommend you start setting `weights_only=True` for any use case where you don't have full control of the loaded file. Please open an issue on GitHub for any issues related to this experimental feature.\n",
      "  checkpoint = torch.load(dir_params, map_location=torch.device('cpu'))\n"
     ]
    }
   ],
   "source": [
    "model = UNetWithUncertainty(n_channels=config['model']['params']['in_channels'],\n",
    "                          n_classes=config['model']['params']['out_channels'],\n",
    "                          ancillary_data_dim=3)\n",
    "model_comp = ModelCompiler(model=model,\n",
    "                           params_init=\"/workspace/notebook/outputs/UNetWithUncertainty_ep50/chkpt/50_checkpoint.pth.tar\")"
   ]
  },
  {
   "cell_type": "code",
   "execution_count": 13,
   "metadata": {},
   "outputs": [
    {
     "name": "stdout",
     "output_type": "stream",
     "text": [
      "-------------------------- Start Evaluation --------------------------\n",
      "Mean Uncertainty: 3.4820\n"
     ]
    },
    {
     "data": {
      "image/png": "[encoded data removed]",
      "text/plain": [
       "<Figure size 300x300 with 2 Axes>"
      ]
     },
     "metadata": {},
     "output_type": "display_data"
    },
    {
     "name": "stdout",
     "output_type": "stream",
     "text": [
      "-------------------------- Evaluation Complete --------------------------\n",
      "Overall Accuracy: 0.6222\n",
      "Mean Accuracy: 0.6074\n",
      "Mean IoU: 0.4276\n",
      "Mean Precision: 0.4619\n",
      "Mean Recall: 0.6074\n",
      "Mean F1 Score: 0.5190\n",
      "Mean Uncertainty: 3.4820\n"
     ]
    },
    {
     "data": {
      "text/plain": [
       "{'Overall Accuracy': np.float64(0.6222255049804987),\n",
       " 'Mean Accuracy': np.float64(0.6073661949463353),\n",
       " 'Mean IoU': np.float64(0.4276200333978502),\n",
       " 'Mean Precision': np.float64(0.4618890337159079),\n",
       " 'Mean Recall': np.float64(0.6073661949463353),\n",
       " 'Mean F1 Score': np.float64(0.5189795409092861),\n",
       " 'Mean Uncertainty': np.float64(3.4819534063339233)}"
      ]
     },
     "execution_count": 13,
     "metadata": {},
     "output_type": "execute_result"
    }
   ],
   "source": [
    "model_comp.evaluate(dataloader=val_loader,\n",
    "                    num_classes=config['model']['params']['out_channels'],\n",
    "                    out_name=config['evaluation']['filename'],  \n",
    "                    class_mapping=config['evaluation']['class_mapping'],\n",
    "                    log_uncertainty=True)"
   ]
  },
  {
   "cell_type": "code",
   "execution_count": 8,
   "metadata": {},
   "outputs": [
    {
     "ename": "AttributeError",
     "evalue": "'ModelCompiler' object has no attribute 'predict_image'",
     "output_type": "error",
     "traceback": [
      "\u001b[0;31m---------------------------------------------------------------------------\u001b[0m",
      "\u001b[0;31mAttributeError\u001b[0m                            Traceback (most recent call last)",
      "Cell \u001b[0;32mIn[8], line 1\u001b[0m\n\u001b[0;32m----> 1\u001b[0m \u001b[43mmodel_comp\u001b[49m\u001b[38;5;241;43m.\u001b[39;49m\u001b[43mpredict_image\u001b[49m(\u001b[38;5;124m\"\u001b[39m\u001b[38;5;124m/workspace/data/data/all_sv_imgs/IMG_2022_004.jpg\u001b[39m\u001b[38;5;124m\"\u001b[39m)\n",
      "\u001b[0;31mAttributeError\u001b[0m: 'ModelCompiler' object has no attribute 'predict_image'"
     ]
    }
   ],
   "source": [
    "model_comp.predict_image(\"/workspace/data/data/all_sv_imgs/IMG_2022_004.jpg\", )"
   ]
  },
  {
   "cell_type": "markdown",
   "metadata": {},
   "source": [
    "##### With only Crop Calendar"
   ]
  },
  {
   "cell_type": "code",
   "execution_count": 8,
   "metadata": {},
   "outputs": [
    {
     "name": "stdout",
     "output_type": "stream",
     "text": [
      "---------- GPU (CUDA) available ----------\n",
      "Total number of trainable parameters: 13.4M\n"
     ]
    }
   ],
   "source": [
    "model = UNetWithFiLM(n_channels=config['model']['params']['in_channels'],\n",
    "                     n_classes=config['model']['params']['out_channels'],\n",
    "                     ancillary_data_dim=3,\n",
    "                     use_dropout=False)\n",
    "model_comp = ModelCompiler(model=model,\n",
    "                           params_init=None)"
   ]
  },
  {
   "cell_type": "code",
   "execution_count": 9,
   "metadata": {},
   "outputs": [
    {
     "name": "stdout",
     "output_type": "stream",
     "text": [
      "-------------------------- Start training --------------------------\n",
      "----------------------- [1/50] -----------------------\n",
      "Epoch Training Loss: 0.6669\n",
      "Current Learning Rate: 0.100000\n",
      "Validation Loss: 1.0722\n",
      "Epoch 1 completed in 113.16 seconds\n",
      "----------------------- [2/50] -----------------------\n",
      "Epoch Training Loss: 0.6666\n",
      "Current Learning Rate: 0.100000\n",
      "Validation Loss: 0.8563\n",
      "Epoch 2 completed in 112.37 seconds\n",
      "----------------------- [3/50] -----------------------\n",
      "Epoch Training Loss: 0.6028\n",
      "Current Learning Rate: 0.100000\n",
      "Validation Loss: 0.6365\n",
      "Epoch 3 completed in 112.37 seconds\n",
      "----------------------- [4/50] -----------------------\n",
      "Epoch Training Loss: 0.6555\n",
      "Current Learning Rate: 0.100000\n",
      "Validation Loss: 2.1404\n",
      "Epoch 4 completed in 112.38 seconds\n",
      "----------------------- [5/50] -----------------------\n",
      "Epoch Training Loss: 0.6399\n",
      "Current Learning Rate: 0.100000\n",
      "Validation Loss: 0.6368\n",
      "Epoch 5 completed in 112.79 seconds\n",
      "----------------------- [6/50] -----------------------\n",
      "Epoch Training Loss: 0.5898\n",
      "Current Learning Rate: 0.100000\n",
      "Validation Loss: 0.7235\n",
      "Epoch 6 completed in 112.38 seconds\n",
      "----------------------- [7/50] -----------------------\n",
      "Epoch Training Loss: 0.5849\n",
      "Current Learning Rate: 0.100000\n",
      "Validation Loss: 0.7122\n",
      "Epoch 7 completed in 112.50 seconds\n",
      "----------------------- [8/50] -----------------------\n",
      "Epoch Training Loss: 0.6044\n",
      "Current Learning Rate: 0.100000\n",
      "Validation Loss: 0.6707\n",
      "Epoch 8 completed in 112.46 seconds\n",
      "----------------------- [9/50] -----------------------\n",
      "Epoch Training Loss: 0.5803\n",
      "Current Learning Rate: 0.100000\n",
      "Validation Loss: 1.8382\n",
      "Epoch 9 completed in 112.57 seconds\n",
      "----------------------- [10/50] -----------------------\n",
      "Epoch Training Loss: 0.5649\n",
      "Current Learning Rate: 0.100000\n",
      "Validation Loss: 1.0149\n",
      "Epoch 10 completed in 110.09 seconds\n",
      "----------------------- [11/50] -----------------------\n",
      "Epoch Training Loss: 0.5431\n",
      "Current Learning Rate: 0.050000\n",
      "Validation Loss: 0.5724\n",
      "Epoch 11 completed in 109.95 seconds\n",
      "----------------------- [12/50] -----------------------\n",
      "Epoch Training Loss: 0.5324\n",
      "Current Learning Rate: 0.050000\n",
      "Validation Loss: 0.6769\n",
      "Epoch 12 completed in 109.83 seconds\n",
      "----------------------- [13/50] -----------------------\n",
      "Epoch Training Loss: 0.5371\n",
      "Current Learning Rate: 0.050000\n",
      "Validation Loss: 0.6353\n",
      "Epoch 13 completed in 109.90 seconds\n",
      "----------------------- [14/50] -----------------------\n",
      "Epoch Training Loss: 0.5208\n",
      "Current Learning Rate: 0.050000\n",
      "Validation Loss: 0.5617\n",
      "Epoch 14 completed in 109.90 seconds\n",
      "----------------------- [15/50] -----------------------\n",
      "Epoch Training Loss: 0.5374\n",
      "Current Learning Rate: 0.050000\n",
      "Validation Loss: 0.5549\n",
      "Epoch 15 completed in 110.07 seconds\n",
      "----------------------- [16/50] -----------------------\n",
      "Epoch Training Loss: 0.5196\n",
      "Current Learning Rate: 0.050000\n",
      "Validation Loss: 0.6786\n",
      "Epoch 16 completed in 109.91 seconds\n",
      "----------------------- [17/50] -----------------------\n",
      "Epoch Training Loss: 0.5166\n",
      "Current Learning Rate: 0.050000\n",
      "Validation Loss: 0.5812\n",
      "Epoch 17 completed in 109.84 seconds\n",
      "----------------------- [18/50] -----------------------\n",
      "Epoch Training Loss: 0.5185\n",
      "Current Learning Rate: 0.050000\n",
      "Validation Loss: 0.8631\n",
      "Epoch 18 completed in 109.77 seconds\n",
      "----------------------- [19/50] -----------------------\n",
      "Epoch Training Loss: 0.5281\n",
      "Current Learning Rate: 0.050000\n",
      "Validation Loss: 0.7359\n",
      "Epoch 19 completed in 109.71 seconds\n",
      "----------------------- [20/50] -----------------------\n",
      "Epoch Training Loss: 0.5046\n",
      "Current Learning Rate: 0.050000\n",
      "Validation Loss: 0.5599\n",
      "Epoch 20 completed in 109.76 seconds\n",
      "----------------------- [21/50] -----------------------\n",
      "Epoch Training Loss: 0.4976\n",
      "Current Learning Rate: 0.025000\n",
      "Validation Loss: 0.5245\n",
      "Epoch 21 completed in 109.73 seconds\n",
      "----------------------- [22/50] -----------------------\n",
      "Epoch Training Loss: 0.4886\n",
      "Current Learning Rate: 0.025000\n",
      "Validation Loss: 1.0965\n",
      "Epoch 22 completed in 109.70 seconds\n",
      "----------------------- [23/50] -----------------------\n",
      "Epoch Training Loss: 0.4840\n",
      "Current Learning Rate: 0.025000\n",
      "Validation Loss: 0.5222\n",
      "Epoch 23 completed in 109.67 seconds\n",
      "----------------------- [24/50] -----------------------\n",
      "Epoch Training Loss: 0.4891\n",
      "Current Learning Rate: 0.025000\n",
      "Validation Loss: 0.4581\n",
      "Epoch 24 completed in 109.58 seconds\n",
      "----------------------- [25/50] -----------------------\n",
      "Epoch Training Loss: 0.4795\n",
      "Current Learning Rate: 0.025000\n",
      "Validation Loss: 1.0926\n",
      "Epoch 25 completed in 109.86 seconds\n",
      "----------------------- [26/50] -----------------------\n",
      "Epoch Training Loss: 0.4687\n",
      "Current Learning Rate: 0.025000\n",
      "Validation Loss: 0.6015\n",
      "Epoch 26 completed in 109.65 seconds\n",
      "----------------------- [27/50] -----------------------\n",
      "Epoch Training Loss: 0.4616\n",
      "Current Learning Rate: 0.025000\n",
      "Validation Loss: 0.6056\n",
      "Epoch 27 completed in 109.60 seconds\n",
      "----------------------- [28/50] -----------------------\n",
      "Epoch Training Loss: 0.4531\n",
      "Current Learning Rate: 0.025000\n",
      "Validation Loss: 0.4900\n",
      "Epoch 28 completed in 109.63 seconds\n",
      "----------------------- [29/50] -----------------------\n",
      "Epoch Training Loss: 0.4565\n",
      "Current Learning Rate: 0.025000\n",
      "Validation Loss: 0.9005\n",
      "Epoch 29 completed in 109.61 seconds\n",
      "----------------------- [30/50] -----------------------\n",
      "Epoch Training Loss: 0.4638\n",
      "Current Learning Rate: 0.025000\n",
      "Validation Loss: 0.5082\n",
      "Epoch 30 completed in 109.86 seconds\n",
      "----------------------- [31/50] -----------------------\n",
      "Epoch Training Loss: 0.4378\n",
      "Current Learning Rate: 0.012500\n",
      "Validation Loss: 0.5232\n",
      "Epoch 31 completed in 109.63 seconds\n",
      "----------------------- [32/50] -----------------------\n",
      "Epoch Training Loss: 0.4289\n",
      "Current Learning Rate: 0.012500\n",
      "Validation Loss: 0.4214\n",
      "Epoch 32 completed in 109.69 seconds\n",
      "----------------------- [33/50] -----------------------\n",
      "Epoch Training Loss: 0.4184\n",
      "Current Learning Rate: 0.012500\n",
      "Validation Loss: 0.4654\n",
      "Epoch 33 completed in 109.59 seconds\n",
      "----------------------- [34/50] -----------------------\n",
      "Epoch Training Loss: 0.4196\n",
      "Current Learning Rate: 0.012500\n",
      "Validation Loss: 0.4305\n",
      "Epoch 34 completed in 109.63 seconds\n",
      "----------------------- [35/50] -----------------------\n",
      "Epoch Training Loss: 0.4158\n",
      "Current Learning Rate: 0.012500\n",
      "Validation Loss: 0.4652\n",
      "Epoch 35 completed in 109.75 seconds\n",
      "----------------------- [36/50] -----------------------\n",
      "Epoch Training Loss: 0.4213\n",
      "Current Learning Rate: 0.012500\n",
      "Validation Loss: 0.5470\n",
      "Epoch 36 completed in 109.51 seconds\n",
      "----------------------- [37/50] -----------------------\n",
      "Epoch Training Loss: 0.4182\n",
      "Current Learning Rate: 0.012500\n",
      "Validation Loss: 0.4837\n",
      "Epoch 37 completed in 109.51 seconds\n",
      "----------------------- [38/50] -----------------------\n",
      "Epoch Training Loss: 0.4165\n",
      "Current Learning Rate: 0.012500\n",
      "Validation Loss: 0.5746\n",
      "Epoch 38 completed in 109.49 seconds\n",
      "----------------------- [39/50] -----------------------\n",
      "Epoch Training Loss: 0.4140\n",
      "Current Learning Rate: 0.012500\n",
      "Validation Loss: 0.4341\n",
      "Epoch 39 completed in 109.59 seconds\n",
      "----------------------- [40/50] -----------------------\n",
      "Epoch Training Loss: 0.4141\n",
      "Current Learning Rate: 0.012500\n",
      "Validation Loss: 0.4880\n",
      "Epoch 40 completed in 109.78 seconds\n",
      "----------------------- [41/50] -----------------------\n",
      "Epoch Training Loss: 0.4105\n",
      "Current Learning Rate: 0.006250\n",
      "Validation Loss: 0.5299\n",
      "Epoch 41 completed in 109.58 seconds\n",
      "----------------------- [42/50] -----------------------\n",
      "Epoch Training Loss: 0.4038\n",
      "Current Learning Rate: 0.006250\n",
      "Validation Loss: 0.4229\n",
      "Epoch 42 completed in 109.46 seconds\n",
      "----------------------- [43/50] -----------------------\n",
      "Epoch Training Loss: 0.3909\n",
      "Current Learning Rate: 0.006250\n",
      "Validation Loss: 0.4269\n",
      "Epoch 43 completed in 109.35 seconds\n",
      "----------------------- [44/50] -----------------------\n",
      "Epoch Training Loss: 0.3977\n",
      "Current Learning Rate: 0.006250\n",
      "Validation Loss: 0.4342\n",
      "Epoch 44 completed in 109.54 seconds\n",
      "----------------------- [45/50] -----------------------\n",
      "Epoch Training Loss: 0.4027\n",
      "Current Learning Rate: 0.006250\n",
      "Validation Loss: 0.4582\n",
      "Epoch 45 completed in 109.65 seconds\n",
      "----------------------- [46/50] -----------------------\n",
      "Epoch Training Loss: 0.3946\n",
      "Current Learning Rate: 0.006250\n",
      "Validation Loss: 0.4679\n",
      "Epoch 46 completed in 109.51 seconds\n",
      "----------------------- [47/50] -----------------------\n",
      "Epoch Training Loss: 0.3936\n",
      "Current Learning Rate: 0.006250\n",
      "Validation Loss: 0.4150\n",
      "Epoch 47 completed in 109.50 seconds\n",
      "----------------------- [48/50] -----------------------\n",
      "Epoch Training Loss: 0.3914\n",
      "Current Learning Rate: 0.006250\n",
      "Validation Loss: 0.4305\n",
      "Epoch 48 completed in 109.50 seconds\n",
      "----------------------- [49/50] -----------------------\n",
      "Epoch Training Loss: 0.4061\n",
      "Current Learning Rate: 0.006250\n",
      "Validation Loss: 0.4560\n",
      "Epoch 49 completed in 109.51 seconds\n",
      "----------------------- [50/50] -----------------------\n",
      "Epoch Training Loss: 0.3904\n",
      "Current Learning Rate: 0.006250\n",
      "Validation Loss: 0.5043\n",
      "Epoch 50 completed in 109.65 seconds\n",
      "Training finished in 5510s\n"
     ]
    }
   ],
   "source": [
    "model_comp.fit(\n",
    "    trainDataset=train_loader,\n",
    "    valDataset=val_loader,\n",
    "    epochs=config['training']['epochs'],\n",
    "    optimizer_name=config['training']['optimizer']['type'],\n",
    "    lr_init=config['training']['learning_rate'],\n",
    "    lr_policy='steplr',  # Use 'steplr' as specified in config\n",
    "    criterion=config['training']['criterion'],\n",
    "    log=True,  # Enable logging for TensorBoard\n",
    "    return_loss=False,\n",
    "    use_ancillary=True,\n",
    "    **config['training']['scheduler']['params'])"
   ]
  },
  {
   "cell_type": "code",
   "execution_count": 10,
   "metadata": {},
   "outputs": [
    {
     "name": "stdout",
     "output_type": "stream",
     "text": [
      "-------------------------- Start Evaluation --------------------------\n"
     ]
    },
    {
     "data": {
      "image/png": "[encoded data removed]",
      "text/plain": [
       "<Figure size 300x300 with 2 Axes>"
      ]
     },
     "metadata": {},
     "output_type": "display_data"
    },
    {
     "name": "stdout",
     "output_type": "stream",
     "text": [
      "-------------------------- Evaluation Complete --------------------------\n",
      "Overall Accuracy: 0.8255\n",
      "Mean Accuracy: 0.7971\n",
      "Mean IoU: 0.7078\n",
      "Mean Precision: 0.8926\n",
      "Mean Recall: 0.7971\n",
      "Mean F1 Score: 0.8262\n"
     ]
    },
    {
     "data": {
      "text/plain": [
       "{'Overall Accuracy': np.float64(0.8254954338032054),\n",
       " 'Mean Accuracy': np.float64(0.7971213222938252),\n",
       " 'Mean IoU': np.float64(0.70777892725711),\n",
       " 'Mean Precision': np.float64(0.8925509589246285),\n",
       " 'Mean Recall': np.float64(0.7971213222938252),\n",
       " 'Mean F1 Score': np.float64(0.8261959034767035)}"
      ]
     },
     "execution_count": 10,
     "metadata": {},
     "output_type": "execute_result"
    }
   ],
   "source": [
    "model_comp.evaluate(dataloader=val_loader,\n",
    "                    num_classes=config['model']['params']['out_channels'],\n",
    "                    class_mapping=config['evaluation']['class_mapping'],\n",
    "                    out_name=config['evaluation']['filename'],  \n",
    "                    log_uncertainty=True)"
   ]
  },
  {
   "cell_type": "code",
   "execution_count": null,
   "metadata": {},
   "outputs": [],
   "source": []
  }
 ],
 "metadata": {
  "kernelspec": {
   "display_name": "Python 3",
   "language": "python",
   "name": "python3"
  },
  "language_info": {
   "codemirror_mode": {
    "name": "ipython",
    "version": 3
   },
   "file_extension": ".py",
   "mimetype": "text/x-python",
   "name": "python",
   "nbconvert_exporter": "python",
   "pygments_lexer": "ipython3",
   "version": "3.10.15"
  }
 },
 "nbformat": 4,
 "nbformat_minor": 2
}
