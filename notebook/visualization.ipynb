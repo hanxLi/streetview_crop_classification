{
 "cells": [
  {
   "cell_type": "markdown",
   "metadata": {},
   "source": [
    "### Training/Eval Result Visualization"
   ]
  },
  {
   "cell_type": "code",
   "execution_count": 8,
   "metadata": {},
   "outputs": [],
   "source": [
    "import pandas as pd\n",
    "from tensorboard.backend.event_processing import event_accumulator"
   ]
  },
  {
   "cell_type": "code",
   "execution_count": 6,
   "metadata": {},
   "outputs": [
    {
     "name": "stdout",
     "output_type": "stream",
     "text": [
      "Available scalar tags: ['Learning Rate']\n"
     ]
    }
   ],
   "source": [
    "# Specify the path to your events file\n",
    "event_file = \"/workspace/notebook/outputs-50epoch-lr0.01-gamma0.1-tb32/originalUNet_ep50/events.out.tfevents.1728412209.e3c8439e0cdc.725448.0\"\n",
    "\n",
    "# Initialize the event accumulator to load only scalars\n",
    "ea = event_accumulator.EventAccumulator(event_file)\n",
    "ea.Reload()  # Load the data\n",
    "\n",
    "# Retrieve available tags\n",
    "available_tags = ea.Tags()['scalars']\n",
    "\n",
    "# Print available tags to see which metrics are logged\n",
    "print(\"Available scalar tags:\", available_tags)\n",
    "\n",
    "# # Get training and validation loss (adjust tag names based on your specific logging)\n",
    "# train_loss = ea.Scalars('train_loss')  # Example: might be 'loss' or similar\n",
    "# val_loss = ea.Scalars('val_loss')      # Example: might be 'val_loss' or similar\n",
    "\n",
    "# # Extract values from the scalar events\n",
    "# train_loss_values = [(scalar.step, scalar.value) for scalar in train_loss]\n",
    "# val_loss_values = [(scalar.step, scalar.value) for scalar in val_loss]\n",
    "\n",
    "# # Print the extracted values\n",
    "# print(\"Train Loss:\", train_loss_values)\n",
    "# print(\"Validation Loss:\", val_loss_values)\n"
   ]
  },
  {
   "cell_type": "code",
   "execution_count": 18,
   "metadata": {},
   "outputs": [
    {
     "name": "stdout",
     "output_type": "stream",
     "text": [
      "     Class  Accuracy       IoU  Precision    Recall  F1 Score\n",
      "0    Maize  0.905101  0.678405   0.730355  0.905101  0.808392\n",
      "1  Soybean  0.697700  0.641728   0.888879  0.697700  0.781772\n"
     ]
    }
   ],
   "source": [
    "# Read the CSV file\n",
    "csv_file = \"/workspace/notebook/outputs-50epoch-lr0.01-gamma0.5-tb32-dp0.3/csiss_street_view_crop_classification_classwise.csv\"\n",
    "df = pd.read_csv(csv_file)\n",
    "\n",
    "# Display the first few rows of the table\n",
    "print(df)  # This will show the first 5 rows of the CSV file\n"
   ]
  },
  {
   "cell_type": "code",
   "execution_count": null,
   "metadata": {},
   "outputs": [],
   "source": [
    "import tensorboard"
   ]
  }
 ],
 "metadata": {
  "kernelspec": {
   "display_name": "myenv",
   "language": "python",
   "name": "python3"
  },
  "language_info": {
   "codemirror_mode": {
    "name": "ipython",
    "version": 3
   },
   "file_extension": ".py",
   "mimetype": "text/x-python",
   "name": "python",
   "nbconvert_exporter": "python",
   "pygments_lexer": "ipython3",
   "version": "3.10.15"
  }
 },
 "nbformat": 4,
 "nbformat_minor": 2
}
