{
 "cells": [
  {
   "cell_type": "code",
   "execution_count": 1,
   "metadata": {},
   "outputs": [],
   "source": [
    "import sys\n",
    "sys.path.append('/workspace/cropClassification')\n",
    "sys.path.append('/workspace/cropClassification/model')\n",
    "import os\n",
    "# if using Apple MPS, fall back to CPU for unsupported ops\n",
    "os.environ[\"PYTORCH_ENABLE_MPS_FALLBACK\"] = \"1\"\n",
    "import torch\n",
    "import pandas as pd\n",
    "from torch.utils.data import DataLoader\n",
    "\n",
    "from unet_uncertain import UNetWithUncertainty, UNetWithFiLM, UNetWithAttention, UNetWithAttentionDeep\n",
    "from unet import originalUNet\n",
    "from compiler import ModelCompiler\n",
    "from dataloader import RoadsideCropImageDataset\n",
    "from loss import AleatoricLoss, BalancedCrossEntropyLoss, BalancedCrossEntropyUncertaintyLoss"
   ]
  },
  {
   "cell_type": "code",
   "execution_count": 2,
   "metadata": {},
   "outputs": [
    {
     "name": "stdout",
     "output_type": "stream",
     "text": [
      "Using CUDA\n"
     ]
    }
   ],
   "source": [
    "if torch.cuda.is_available():\n",
    "    device = torch.device(\"cuda\")  # Use GPU with CUDA\n",
    "    print(\"Using CUDA\")\n",
    "elif torch.backends.mps.is_available():\n",
    "    device = torch.device(\"mps\")  # Use Apple M1/M2 GPU with MPS (Metal Performance Shaders)\n",
    "    print(\"Using MPS\")\n",
    "else:\n",
    "    device = torch.device(\"cpu\")  # Fall back to CPU\n",
    "    print(\"Using CPU\")"
   ]
  },
  {
   "cell_type": "code",
   "execution_count": 3,
   "metadata": {},
   "outputs": [],
   "source": [
    "config = {\n",
    "    \"model\": {\n",
    "        \"type\": \"UNetWithUncertainty\", \n",
    "        \"params\": {\n",
    "            \"in_channels\": 10,  # Since we are using 9-channel input images\n",
    "            \"out_channels\": 3   # Number of output classes for segmentation\n",
    "        }\n",
    "    },\n",
    "    \"training\": {\n",
    "        \"epochs\": 100,\n",
    "        \"batch_size\": 64,\n",
    "        \"learning_rate\": 0.01,\n",
    "        \"optimizer\": {\n",
    "            \"type\": \"Adam\",\n",
    "            \"params\": {\n",
    "                \"lr\": 0.1\n",
    "            }\n",
    "        },\n",
    "        \"scheduler\": {\n",
    "            \"type\": \"StepLR\",\n",
    "            \"params\": {\n",
    "                \"step_size\": 10,\n",
    "                \"gamma\": 0.8\n",
    "            }\n",
    "        },\n",
    "        \"criterion\": BalancedCrossEntropyLoss,\n",
    "        \"classwise_weights\": [0.40847337, 0.24774314, 0.34378349],\n",
    "        \"resume\" : False,\n",
    "        \"resume_epoch\" : None,\n",
    "    },\n",
    "    \"validation\": {\n",
    "        \"epochs\": 50,\n",
    "        \"batch_size\": 16\n",
    "    },\n",
    "    \"dataset\": {\n",
    "        \"train_csv\": \"/workspace/data/masked_data_csiss/training/train_chipping_csv_w_anc.csv\",  # Path to the training DataFrame (includes npy file paths)\n",
    "        \"val_csv\": \"/workspace/data/masked_data_csiss/validation/validation_chipping_csv_w_anc.csv\", # Path to the validation DataFrame (includes npy file paths)\n",
    "        \"train_root_path\": \"/workspace/data/masked_data_csiss/training\",\n",
    "        \"val_root_path\": \"/workspace/data/masked_data_csiss/validation\",\n",
    "        \"image_column\": \"img_chip_path\",             # Column containing the image paths (npy files)\n",
    "        \"mask_column\": \"lbl_chip_path\",              # Column containing the mask paths\n",
    "        \"train_mean\": [93.35909, 112.25017, 77.58077, 113.76227, 209.35867, \n",
    "                       33.197624, 47.543148, 115.10287, 116.46991, 0.4089894],  # Mean values for training set normalization\n",
    "        \"train_std\": [52.684902, 47.859867, 48.691204, 48.87318, 79.684715, \n",
    "                      55.719467, 22.692726, 52.473957, 49.270615, 0.18757315],   # Std values for training set normalization\n",
    "        \"val_mean\": [86.912254, 111.033424, 76.70707, 111.44443, 222.71599, \n",
    "                     32.308598, 51.314415, 117.117516, 114.03275, 0.4002856],    # Mean values for validation set normalization\n",
    "        \"val_std\": [53.11299, 48.662193, 49.91134, 49.917503, 60.49611, \n",
    "                    55.28856, 21.68052, 54.39602, 50.282692, 0.1894794],     # Std values for validation set normalization\n",
    "        \"classwise_norm\": {\n",
    "            \"Other\": {\n",
    "                \"mean\": [110.14499, 138.28326, 117.67161, 138.71075, 233.10298, 95.24617, \n",
    "                         61.51174, 95.255585, 143.12497, 0.5121758],\n",
    "                \"std\": [49.80741, 58.08042, 73.33471, 56.73531, 46.3197, 107.53641, \n",
    "                        27.30666, 48.58509, 61.8592, 0.22473]\n",
    "            },\n",
    "            \"Maize\": {\n",
    "                \"mean\": [90.51625, 108.20322, 72.41352, 109.907, 203.1153, 24.78379, \n",
    "                         45.99272, 118.35542, 112.66669, 0.39319476],\n",
    "                \"std\": [53.35697, 45.1693, 41.97862, 46.84034, 85.41561, 37.93971, \n",
    "                        21.92598, 52.69628, 46.29754, 0.1780796]\n",
    "            },\n",
    "            \"Soybean\": {\n",
    "                \"mean\": [83.55291, 101.03232, 66.89771, 102.10976, 220.03397, 28.55189, \n",
    "                         47.94096, 116.89587, 103.48843, 0.36566228],\n",
    "                \"std\": [49.91921, 47.52045, 41.91468, 48.74042, 67.89334, 47.91879, \n",
    "                        20.7751, 53.59672, 48.15541, 0.18223667]\n",
    "            },\n",
    "        }\n",
    "    },\n",
    "    \"evaluation\": {\n",
    "        \"filename\": \"csiss_street_view_crop_classification.csv\",  # Evaluation metrics to be used\n",
    "        \"class_mapping\": {\n",
    "            0: \"Background\",\n",
    "            1: \"Maize\",\n",
    "            2: \"Soybean\"\n",
    "        }\n",
    "    }\n",
    "}"
   ]
  },
  {
   "cell_type": "code",
   "execution_count": 4,
   "metadata": {},
   "outputs": [
    {
     "name": "stdout",
     "output_type": "stream",
     "text": [
      "---------- GPU (CUDA) available ----------\n",
      "Loading model parameters from: /workspace/notebook/outputs-UWA-ep100-bceloss-clsweighted-lr0.01-gamma0.8/UNetWithAttention_ep100/chkpt/final_checkpoint.pth.tar\n",
      "Model parameters loaded successfully.\n",
      "Total number of trainable parameters: 13.7M\n"
     ]
    },
    {
     "name": "stderr",
     "output_type": "stream",
     "text": [
      "/workspace/cropClassification/model/compiler.py:53: FutureWarning: You are using `torch.load` with `weights_only=False` (the current default value), which uses the default pickle module implicitly. It is possible to construct malicious pickle data which will execute arbitrary code during unpickling (See https://github.com/pytorch/pytorch/blob/main/SECURITY.md#untrusted-models for more details). In a future release, the default value for `weights_only` will be flipped to `True`. This limits the functions that could be executed during unpickling. Arbitrary objects will no longer be allowed to be loaded via this mode unless they are explicitly allowlisted by the user via `torch.serialization.add_safe_globals`. We recommend you start setting `weights_only=True` for any use case where you don't have full control of the loaded file. Please open an issue on GitHub for any issues related to this experimental feature.\n",
      "  checkpoint = torch.load(dir_params, map_location=torch.device('cpu'))\n"
     ]
    }
   ],
   "source": [
    "model = UNetWithAttention(n_channels=config['model']['params']['in_channels'],\n",
    "                          n_classes=config['model']['params']['out_channels'],\n",
    "                          ancillary_data_dim=3)\n",
    "model_comp = ModelCompiler(model=model,\n",
    "                           params_init=\"/workspace/notebook/outputs-UWA-ep100-bceloss-clsweighted-lr0.01-gamma0.8/UNetWithAttention_ep100/chkpt/final_checkpoint.pth.tar\")"
   ]
  },
  {
   "cell_type": "code",
   "execution_count": 5,
   "metadata": {},
   "outputs": [],
   "source": [
    "# mask = model_comp.simple_predict_and_display(image_path=\"/workspace/data/all_sv_imgs/IMG_2022_279.jpg\",\n",
    "#                                csv_path=\"/workspace/data/masked_data_csiss/validation/validation_chipping_csv_w_anc.csv\")"
   ]
  },
  {
   "cell_type": "code",
   "execution_count": null,
   "metadata": {},
   "outputs": [],
   "source": [
    "import pandas as pd\n",
    "import numpy as np\n",
    "from sklearn.metrics import confusion_matrix, classification_report\n",
    "import os\n",
    "from tqdm import tqdm\n",
    "\n",
    "def classify_and_evaluate(model_comp, validation_csv, image_dir, output_dir):\n",
    "    \"\"\"\n",
    "    Perform segmentation-based classification and generate a confusion matrix.\n",
    "\n",
    "    Args:\n",
    "        model_comp (ModelCompiler): Compiled model for inference.\n",
    "        validation_csv (str): Path to the validation CSV file.\n",
    "        image_dir (str): Directory containing validation images.\n",
    "        output_dir (str): Directory to save classification results and confusion matrix.\n",
    "\n",
    "    Returns:\n",
    "        pd.DataFrame: Confusion matrix as a DataFrame.\n",
    "    \"\"\"\n",
    "    # Load validation data\n",
    "    validation_data = pd.read_csv(validation_csv)\n",
    "\n",
    "    # Initialize lists to store predictions and ground truth\n",
    "    y_true = []\n",
    "    y_pred = []\n",
    "    confidence_scores = []\n",
    "\n",
    "    # Class mapping for numeric to string\n",
    "    label_map = {0: \"Other\", 1: \"Maize\", 2: \"Soybean\"}\n",
    "\n",
    "    # Group by unique images\n",
    "    unique_images = validation_data['origin_img'].unique()\n",
    "\n",
    "    for img_name in tqdm(unique_images, desc=\"Processing Unique Images\"):\n",
    "        # Extract rows corresponding to this unique image\n",
    "        image_rows = validation_data[validation_data['origin_img'] == img_name]\n",
    "        crop_type = image_rows['crop_type'].iloc[0]  # Assume the crop type is consistent across chips\n",
    "        image_path = os.path.join(image_dir, f\"{img_name}.jpg\")\n",
    "\n",
    "        # Perform segmentation inference\n",
    "        mask = model_comp.simple_predict_and_display(image_path=image_path, csv_path=validation_csv)\n",
    "\n",
    "        # Determine dominant class and confidence\n",
    "        unique, counts = np.unique(mask, return_counts=True)\n",
    "        class_pixel_counts = dict(zip(unique, counts))\n",
    "        total_pixels = mask.size\n",
    "\n",
    "        # Predict the dominant class\n",
    "        dominant_class_numeric = max(class_pixel_counts, key=class_pixel_counts.get)\n",
    "        confidence = class_pixel_counts[dominant_class_numeric] / total_pixels\n",
    "        dominant_class = label_map[dominant_class_numeric]\n",
    "\n",
    "        # Store results\n",
    "        y_true.append(crop_type)\n",
    "        y_pred.append(dominant_class)\n",
    "        confidence_scores.append(confidence)\n",
    "\n",
    "    # Generate a confusion matrix\n",
    "    cm = confusion_matrix(y_true, y_pred, labels=[\"Other\", \"Maize\", \"Soybean\"])\n",
    "    cm_df = pd.DataFrame(cm, index=[\"Other\", \"Maize\", \"Soybean\"], columns=[\"Other\", \"Maize\", \"Soybean\"])\n",
    "\n",
    "    # Save classification results and confusion matrix\n",
    "    classification_results = pd.DataFrame({\n",
    "        \"origin_img\": unique_images,\n",
    "        \"true_class\": y_true,\n",
    "        \"predicted_class\": y_pred,\n",
    "        \"confidence\": confidence_scores\n",
    "    })\n",
    "    classification_results.to_csv(os.path.join(output_dir, \"classification_results.csv\"), index=False)\n",
    "    cm_df.to_csv(os.path.join(output_dir, \"confusion_matrix.csv\"))\n",
    "\n",
    "    # Print classification report\n",
    "    print(\"Classification Report:\")\n",
    "    print(classification_report(y_true, y_pred, target_names=[\"Other\", \"Maize\", \"Soybean\"]))\n",
    "\n",
    "    return cm_df"
   ]
  },
  {
   "cell_type": "code",
   "execution_count": null,
   "metadata": {},
   "outputs": [],
   "source": [
    "cm_df = classify_and_evaluate(\n",
    "    model_comp=model_comp,\n",
    "    validation_csv=\"/workspace/data/masked_data_csiss/validation/validation_chipping_csv_w_anc.csv\",\n",
    "    image_dir=\"/workspace/data/all_sv_imgs\",\n",
    "    output_dir=\"/workspace/notebook/results\"\n",
    ")"
   ]
  },
  {
   "cell_type": "code",
   "execution_count": null,
   "metadata": {},
   "outputs": [],
   "source": [
    "print(cm_df)"
   ]
  }
 ],
 "metadata": {
  "kernelspec": {
   "display_name": "myenv",
   "language": "python",
   "name": "python3"
  },
  "language_info": {
   "codemirror_mode": {
    "name": "ipython",
    "version": 3
   },
   "file_extension": ".py",
   "mimetype": "text/x-python",
   "name": "python",
   "nbconvert_exporter": "python",
   "pygments_lexer": "ipython3",
   "version": "3.10.15"
  }
 },
 "nbformat": 4,
 "nbformat_minor": 2
}
