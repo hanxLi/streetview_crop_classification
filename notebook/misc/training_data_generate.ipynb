{
 "cells": [
  {
   "cell_type": "code",
   "execution_count": 1,
   "metadata": {},
   "outputs": [
    {
     "name": "stdout",
     "output_type": "stream",
     "text": [
      "\u001b[33mWARNING: Running pip as the 'root' user can result in broken permissions and conflicting behaviour with the system package manager, possibly rendering your system unusable.It is recommended to use a virtual environment instead: https://pip.pypa.io/warnings/venv. Use the --root-user-action option if you know what you are doing and want to suppress this warning.\u001b[0m\u001b[33m\n",
      "\u001b[0mNote: you may need to restart the kernel to use updated packages.\n",
      "\u001b[33mWARNING: Running pip as the 'root' user can result in broken permissions and conflicting behaviour with the system package manager, possibly rendering your system unusable.It is recommended to use a virtual environment instead: https://pip.pypa.io/warnings/venv. Use the --root-user-action option if you know what you are doing and want to suppress this warning.\u001b[0m\u001b[33m\n",
      "\u001b[0mNote: you may need to restart the kernel to use updated packages.\n"
     ]
    }
   ],
   "source": [
    "%pip install --upgrade jupyter ipywidgets --quiet\n",
    "%pip install PyWavelets --quiet"
   ]
  },
  {
   "cell_type": "code",
   "execution_count": 2,
   "metadata": {},
   "outputs": [],
   "source": [
    "import sys\n",
    "sys.path.append(\"/workspace/cropClassification\")\n",
    "\n",
    "import geopandas as gpd\n",
    "import pandas as pd\n",
    "from datetime import datetime\n",
    "from sklearn.model_selection import train_test_split\n",
    "\n",
    "from chipping import *\n"
   ]
  },
  {
   "cell_type": "code",
   "execution_count": 3,
   "metadata": {},
   "outputs": [],
   "source": [
    "filtered_mask_json = \"/workspace/data/maize_soyb_training.geojson\"\n"
   ]
  },
  {
   "cell_type": "code",
   "execution_count": 4,
   "metadata": {},
   "outputs": [
    {
     "name": "stderr",
     "output_type": "stream",
     "text": [
      "/opt/conda/envs/myenv/lib/python3.10/site-packages/pyogrio/raw.py:198: RuntimeWarning: driver GeoJSON does not support open option DRIVER\n",
      "  return ogr_read(\n"
     ]
    },
    {
     "data": {
      "text/html": [
       "<div>\n",
       "<style scoped>\n",
       "    .dataframe tbody tr th:only-of-type {\n",
       "        vertical-align: middle;\n",
       "    }\n",
       "\n",
       "    .dataframe tbody tr th {\n",
       "        vertical-align: top;\n",
       "    }\n",
       "\n",
       "    .dataframe thead th {\n",
       "        text-align: right;\n",
       "    }\n",
       "</style>\n",
       "<table border=\"1\" class=\"dataframe\">\n",
       "  <thead>\n",
       "    <tr style=\"text-align: right;\">\n",
       "      <th></th>\n",
       "      <th>img_name</th>\n",
       "      <th>crop_type</th>\n",
       "      <th>mask_name</th>\n",
       "      <th>img_path</th>\n",
       "      <th>mask_path</th>\n",
       "      <th>mask_score</th>\n",
       "      <th>time</th>\n",
       "      <th>geometry</th>\n",
       "    </tr>\n",
       "  </thead>\n",
       "  <tbody>\n",
       "    <tr>\n",
       "      <th>0</th>\n",
       "      <td>IMG_2022_001.jpg</td>\n",
       "      <td>Maize</td>\n",
       "      <td>IMG_2022_001_mask.jpg</td>\n",
       "      <td>/home/hanxli/data/data/all_sv_imgs/IMG_2022_00...</td>\n",
       "      <td>/home/hanxli/data/data/mask_files/IMG_2022_001...</td>\n",
       "      <td>0.901633</td>\n",
       "      <td>2022-08-09 13:54:08</td>\n",
       "      <td>POINT (-134842.932 1983715.338)</td>\n",
       "    </tr>\n",
       "    <tr>\n",
       "      <th>1</th>\n",
       "      <td>IMG_2022_003.jpg</td>\n",
       "      <td>Soybean</td>\n",
       "      <td>IMG_2022_003_mask.jpg</td>\n",
       "      <td>/home/hanxli/data/data/all_sv_imgs/IMG_2022_00...</td>\n",
       "      <td>/home/hanxli/data/data/mask_files/IMG_2022_003...</td>\n",
       "      <td>0.972062</td>\n",
       "      <td>2022-08-09 13:54:20</td>\n",
       "      <td>POINT (-134401.764 1983428.477)</td>\n",
       "    </tr>\n",
       "    <tr>\n",
       "      <th>2</th>\n",
       "      <td>IMG_2022_004.jpg</td>\n",
       "      <td>Soybean</td>\n",
       "      <td>IMG_2022_004_mask.jpg</td>\n",
       "      <td>/home/hanxli/data/data/all_sv_imgs/IMG_2022_00...</td>\n",
       "      <td>/home/hanxli/data/data/mask_files/IMG_2022_004...</td>\n",
       "      <td>0.985273</td>\n",
       "      <td>2022-08-09 14:48:06</td>\n",
       "      <td>POINT (-134291.47 1983356.611)</td>\n",
       "    </tr>\n",
       "    <tr>\n",
       "      <th>3</th>\n",
       "      <td>IMG_2022_006.jpg</td>\n",
       "      <td>Soybean</td>\n",
       "      <td>IMG_2022_006_mask.jpg</td>\n",
       "      <td>/home/hanxli/data/data/all_sv_imgs/IMG_2022_00...</td>\n",
       "      <td>/home/hanxli/data/data/mask_files/IMG_2022_006...</td>\n",
       "      <td>0.947928</td>\n",
       "      <td>2022-08-09 14:48:09</td>\n",
       "      <td>POINT (-133973.182 1983151.187)</td>\n",
       "    </tr>\n",
       "    <tr>\n",
       "      <th>4</th>\n",
       "      <td>IMG_2022_007.jpg</td>\n",
       "      <td>Maize</td>\n",
       "      <td>IMG_2022_007_mask.jpg</td>\n",
       "      <td>/home/hanxli/data/data/all_sv_imgs/IMG_2022_00...</td>\n",
       "      <td>/home/hanxli/data/data/mask_files/IMG_2022_007...</td>\n",
       "      <td>0.950194</td>\n",
       "      <td>2022-08-09 13:55:58</td>\n",
       "      <td>POINT (-133639.877 1981696.371)</td>\n",
       "    </tr>\n",
       "  </tbody>\n",
       "</table>\n",
       "</div>"
      ],
      "text/plain": [
       "           img_name crop_type              mask_name  \\\n",
       "0  IMG_2022_001.jpg     Maize  IMG_2022_001_mask.jpg   \n",
       "1  IMG_2022_003.jpg   Soybean  IMG_2022_003_mask.jpg   \n",
       "2  IMG_2022_004.jpg   Soybean  IMG_2022_004_mask.jpg   \n",
       "3  IMG_2022_006.jpg   Soybean  IMG_2022_006_mask.jpg   \n",
       "4  IMG_2022_007.jpg     Maize  IMG_2022_007_mask.jpg   \n",
       "\n",
       "                                            img_path  \\\n",
       "0  /home/hanxli/data/data/all_sv_imgs/IMG_2022_00...   \n",
       "1  /home/hanxli/data/data/all_sv_imgs/IMG_2022_00...   \n",
       "2  /home/hanxli/data/data/all_sv_imgs/IMG_2022_00...   \n",
       "3  /home/hanxli/data/data/all_sv_imgs/IMG_2022_00...   \n",
       "4  /home/hanxli/data/data/all_sv_imgs/IMG_2022_00...   \n",
       "\n",
       "                                           mask_path  mask_score  \\\n",
       "0  /home/hanxli/data/data/mask_files/IMG_2022_001...    0.901633   \n",
       "1  /home/hanxli/data/data/mask_files/IMG_2022_003...    0.972062   \n",
       "2  /home/hanxli/data/data/mask_files/IMG_2022_004...    0.985273   \n",
       "3  /home/hanxli/data/data/mask_files/IMG_2022_006...    0.947928   \n",
       "4  /home/hanxli/data/data/mask_files/IMG_2022_007...    0.950194   \n",
       "\n",
       "                 time                         geometry  \n",
       "0 2022-08-09 13:54:08  POINT (-134842.932 1983715.338)  \n",
       "1 2022-08-09 13:54:20  POINT (-134401.764 1983428.477)  \n",
       "2 2022-08-09 14:48:06   POINT (-134291.47 1983356.611)  \n",
       "3 2022-08-09 14:48:09  POINT (-133973.182 1983151.187)  \n",
       "4 2022-08-09 13:55:58  POINT (-133639.877 1981696.371)  "
      ]
     },
     "execution_count": 4,
     "metadata": {},
     "output_type": "execute_result"
    }
   ],
   "source": [
    "gdf_filtered = gpd.read_file(filtered_mask_json, driver=\"GeoJSON\")\n",
    "gdf_filtered.head()"
   ]
  },
  {
   "cell_type": "code",
   "execution_count": 5,
   "metadata": {},
   "outputs": [],
   "source": [
    "def update_paths(dataframe, img_column='img_path', mask_column='mask_path', \n",
    "                 old_base='/home/hanxli/data/data/', new_base='/workspace/data/'):\n",
    "    \"\"\"\n",
    "    Update the image and mask paths in the DataFrame by replacing the base directory.\n",
    "\n",
    "    Args:\n",
    "        dataframe (pd.DataFrame): DataFrame containing the paths.\n",
    "        img_column (str): Name of the column with image paths.\n",
    "        mask_column (str): Name of the column with mask paths.\n",
    "        old_base (str): Old base path to be replaced.\n",
    "        new_base (str): New base path to replace with.\n",
    "\n",
    "    Returns:\n",
    "        pd.DataFrame: DataFrame with updated paths.\n",
    "    \"\"\"\n",
    "    # Replace old base path with new base path for both image and mask columns\n",
    "    dataframe[img_column] = dataframe[img_column].str.replace(old_base, new_base, regex=False)\n",
    "    dataframe[mask_column] = dataframe[mask_column].str.replace(old_base, new_base, regex=False)\n",
    "    \n",
    "    return dataframe"
   ]
  },
  {
   "cell_type": "code",
   "execution_count": 6,
   "metadata": {},
   "outputs": [
    {
     "data": {
      "text/html": [
       "<div>\n",
       "<style scoped>\n",
       "    .dataframe tbody tr th:only-of-type {\n",
       "        vertical-align: middle;\n",
       "    }\n",
       "\n",
       "    .dataframe tbody tr th {\n",
       "        vertical-align: top;\n",
       "    }\n",
       "\n",
       "    .dataframe thead th {\n",
       "        text-align: right;\n",
       "    }\n",
       "</style>\n",
       "<table border=\"1\" class=\"dataframe\">\n",
       "  <thead>\n",
       "    <tr style=\"text-align: right;\">\n",
       "      <th></th>\n",
       "      <th>img_name</th>\n",
       "      <th>crop_type</th>\n",
       "      <th>mask_name</th>\n",
       "      <th>img_path</th>\n",
       "      <th>mask_path</th>\n",
       "      <th>mask_score</th>\n",
       "      <th>time</th>\n",
       "      <th>geometry</th>\n",
       "    </tr>\n",
       "  </thead>\n",
       "  <tbody>\n",
       "    <tr>\n",
       "      <th>0</th>\n",
       "      <td>IMG_2022_001.jpg</td>\n",
       "      <td>Maize</td>\n",
       "      <td>IMG_2022_001_mask.jpg</td>\n",
       "      <td>/workspace/data/all_sv_imgs/IMG_2022_001.jpg</td>\n",
       "      <td>/workspace/data/mask_files/IMG_2022_001_mask.jpg</td>\n",
       "      <td>0.901633</td>\n",
       "      <td>2022-08-09 13:54:08</td>\n",
       "      <td>POINT (-134842.932 1983715.338)</td>\n",
       "    </tr>\n",
       "    <tr>\n",
       "      <th>1</th>\n",
       "      <td>IMG_2022_003.jpg</td>\n",
       "      <td>Soybean</td>\n",
       "      <td>IMG_2022_003_mask.jpg</td>\n",
       "      <td>/workspace/data/all_sv_imgs/IMG_2022_003.jpg</td>\n",
       "      <td>/workspace/data/mask_files/IMG_2022_003_mask.jpg</td>\n",
       "      <td>0.972062</td>\n",
       "      <td>2022-08-09 13:54:20</td>\n",
       "      <td>POINT (-134401.764 1983428.477)</td>\n",
       "    </tr>\n",
       "    <tr>\n",
       "      <th>2</th>\n",
       "      <td>IMG_2022_004.jpg</td>\n",
       "      <td>Soybean</td>\n",
       "      <td>IMG_2022_004_mask.jpg</td>\n",
       "      <td>/workspace/data/all_sv_imgs/IMG_2022_004.jpg</td>\n",
       "      <td>/workspace/data/mask_files/IMG_2022_004_mask.jpg</td>\n",
       "      <td>0.985273</td>\n",
       "      <td>2022-08-09 14:48:06</td>\n",
       "      <td>POINT (-134291.47 1983356.611)</td>\n",
       "    </tr>\n",
       "  </tbody>\n",
       "</table>\n",
       "</div>"
      ],
      "text/plain": [
       "           img_name crop_type              mask_name  \\\n",
       "0  IMG_2022_001.jpg     Maize  IMG_2022_001_mask.jpg   \n",
       "1  IMG_2022_003.jpg   Soybean  IMG_2022_003_mask.jpg   \n",
       "2  IMG_2022_004.jpg   Soybean  IMG_2022_004_mask.jpg   \n",
       "\n",
       "                                       img_path  \\\n",
       "0  /workspace/data/all_sv_imgs/IMG_2022_001.jpg   \n",
       "1  /workspace/data/all_sv_imgs/IMG_2022_003.jpg   \n",
       "2  /workspace/data/all_sv_imgs/IMG_2022_004.jpg   \n",
       "\n",
       "                                          mask_path  mask_score  \\\n",
       "0  /workspace/data/mask_files/IMG_2022_001_mask.jpg    0.901633   \n",
       "1  /workspace/data/mask_files/IMG_2022_003_mask.jpg    0.972062   \n",
       "2  /workspace/data/mask_files/IMG_2022_004_mask.jpg    0.985273   \n",
       "\n",
       "                 time                         geometry  \n",
       "0 2022-08-09 13:54:08  POINT (-134842.932 1983715.338)  \n",
       "1 2022-08-09 13:54:20  POINT (-134401.764 1983428.477)  \n",
       "2 2022-08-09 14:48:06   POINT (-134291.47 1983356.611)  "
      ]
     },
     "execution_count": 6,
     "metadata": {},
     "output_type": "execute_result"
    }
   ],
   "source": [
    "gdf_filtered = update_paths(gdf_filtered)\n",
    "gdf_filtered.head(3)"
   ]
  },
  {
   "cell_type": "code",
   "execution_count": 7,
   "metadata": {},
   "outputs": [],
   "source": [
    "# update_masks(gdf_filtered)"
   ]
  },
  {
   "cell_type": "code",
   "execution_count": 8,
   "metadata": {},
   "outputs": [
    {
     "data": {
      "text/html": [
       "<div>\n",
       "<style scoped>\n",
       "    .dataframe tbody tr th:only-of-type {\n",
       "        vertical-align: middle;\n",
       "    }\n",
       "\n",
       "    .dataframe tbody tr th {\n",
       "        vertical-align: top;\n",
       "    }\n",
       "\n",
       "    .dataframe thead th {\n",
       "        text-align: right;\n",
       "    }\n",
       "</style>\n",
       "<table border=\"1\" class=\"dataframe\">\n",
       "  <thead>\n",
       "    <tr style=\"text-align: right;\">\n",
       "      <th></th>\n",
       "      <th>img_name</th>\n",
       "      <th>crop_type</th>\n",
       "      <th>mask_name</th>\n",
       "      <th>img_path</th>\n",
       "      <th>mask_path</th>\n",
       "      <th>mask_score</th>\n",
       "      <th>time</th>\n",
       "      <th>geometry</th>\n",
       "    </tr>\n",
       "  </thead>\n",
       "  <tbody>\n",
       "    <tr>\n",
       "      <th>0</th>\n",
       "      <td>IMG_2022_361.jpg</td>\n",
       "      <td>Soybean</td>\n",
       "      <td>IMG_2022_361_mask.jpg</td>\n",
       "      <td>/workspace/data/all_sv_imgs/IMG_2022_361.jpg</td>\n",
       "      <td>/workspace/data/mask_files/IMG_2022_361_mask.jpg</td>\n",
       "      <td>0.990133</td>\n",
       "      <td>2022-08-11 11:42:38</td>\n",
       "      <td>POINT (92716.921 2028505.006)</td>\n",
       "    </tr>\n",
       "    <tr>\n",
       "      <th>1</th>\n",
       "      <td>IMG_2022_153.jpg</td>\n",
       "      <td>Maize</td>\n",
       "      <td>IMG_2022_153_mask.jpg</td>\n",
       "      <td>/workspace/data/all_sv_imgs/IMG_2022_153.jpg</td>\n",
       "      <td>/workspace/data/mask_files/IMG_2022_153_mask.jpg</td>\n",
       "      <td>0.961253</td>\n",
       "      <td>2022-08-09 15:07:49</td>\n",
       "      <td>POINT (-58352.658 1957198.228)</td>\n",
       "    </tr>\n",
       "    <tr>\n",
       "      <th>2</th>\n",
       "      <td>IMG_2022_109.jpg</td>\n",
       "      <td>Maize</td>\n",
       "      <td>IMG_2022_109_mask.jpg</td>\n",
       "      <td>/workspace/data/all_sv_imgs/IMG_2022_109.jpg</td>\n",
       "      <td>/workspace/data/mask_files/IMG_2022_109_mask.jpg</td>\n",
       "      <td>0.978089</td>\n",
       "      <td>2022-08-09 14:39:40</td>\n",
       "      <td>POINT (-87591.124 1958051.762)</td>\n",
       "    </tr>\n",
       "    <tr>\n",
       "      <th>3</th>\n",
       "      <td>IMG_2022_073.jpg</td>\n",
       "      <td>Maize</td>\n",
       "      <td>IMG_2022_073_mask.jpg</td>\n",
       "      <td>/workspace/data/all_sv_imgs/IMG_2022_073.jpg</td>\n",
       "      <td>/workspace/data/mask_files/IMG_2022_073_mask.jpg</td>\n",
       "      <td>0.971559</td>\n",
       "      <td>2022-08-09 14:49:27</td>\n",
       "      <td>POINT (-115416.54 1960571.442)</td>\n",
       "    </tr>\n",
       "    <tr>\n",
       "      <th>4</th>\n",
       "      <td>IMG_2022_289.jpg</td>\n",
       "      <td>Soybean</td>\n",
       "      <td>IMG_2022_289_mask.jpg</td>\n",
       "      <td>/workspace/data/all_sv_imgs/IMG_2022_289.jpg</td>\n",
       "      <td>/workspace/data/mask_files/IMG_2022_289_mask.jpg</td>\n",
       "      <td>0.971246</td>\n",
       "      <td>2022-08-11 11:16:36</td>\n",
       "      <td>POINT (58071.734 2025213.23)</td>\n",
       "    </tr>\n",
       "  </tbody>\n",
       "</table>\n",
       "</div>"
      ],
      "text/plain": [
       "           img_name crop_type              mask_name  \\\n",
       "0  IMG_2022_361.jpg   Soybean  IMG_2022_361_mask.jpg   \n",
       "1  IMG_2022_153.jpg     Maize  IMG_2022_153_mask.jpg   \n",
       "2  IMG_2022_109.jpg     Maize  IMG_2022_109_mask.jpg   \n",
       "3  IMG_2022_073.jpg     Maize  IMG_2022_073_mask.jpg   \n",
       "4  IMG_2022_289.jpg   Soybean  IMG_2022_289_mask.jpg   \n",
       "\n",
       "                                       img_path  \\\n",
       "0  /workspace/data/all_sv_imgs/IMG_2022_361.jpg   \n",
       "1  /workspace/data/all_sv_imgs/IMG_2022_153.jpg   \n",
       "2  /workspace/data/all_sv_imgs/IMG_2022_109.jpg   \n",
       "3  /workspace/data/all_sv_imgs/IMG_2022_073.jpg   \n",
       "4  /workspace/data/all_sv_imgs/IMG_2022_289.jpg   \n",
       "\n",
       "                                          mask_path  mask_score  \\\n",
       "0  /workspace/data/mask_files/IMG_2022_361_mask.jpg    0.990133   \n",
       "1  /workspace/data/mask_files/IMG_2022_153_mask.jpg    0.961253   \n",
       "2  /workspace/data/mask_files/IMG_2022_109_mask.jpg    0.978089   \n",
       "3  /workspace/data/mask_files/IMG_2022_073_mask.jpg    0.971559   \n",
       "4  /workspace/data/mask_files/IMG_2022_289_mask.jpg    0.971246   \n",
       "\n",
       "                 time                        geometry  \n",
       "0 2022-08-11 11:42:38   POINT (92716.921 2028505.006)  \n",
       "1 2022-08-09 15:07:49  POINT (-58352.658 1957198.228)  \n",
       "2 2022-08-09 14:39:40  POINT (-87591.124 1958051.762)  \n",
       "3 2022-08-09 14:49:27  POINT (-115416.54 1960571.442)  \n",
       "4 2022-08-11 11:16:36    POINT (58071.734 2025213.23)  "
      ]
     },
     "execution_count": 8,
     "metadata": {},
     "output_type": "execute_result"
    }
   ],
   "source": [
    "train_df, test_df = train_test_split(gdf_filtered, test_size=0.2, random_state=42)\n",
    "train_df = train_df.reset_index(drop=True)\n",
    "test_df = test_df.reset_index(drop=True)\n",
    "train_df.head()"
   ]
  },
  {
   "cell_type": "code",
   "execution_count": 9,
   "metadata": {},
   "outputs": [
    {
     "data": {
      "application/vnd.jupyter.widget-view+json": {
       "model_id": "8ad645929a1b48ae82f5781df9852d42",
       "version_major": 2,
       "version_minor": 0
      },
      "text/plain": [
       "Processing Images:   0%|          | 0/549 [00:00<?, ?it/s]"
      ]
     },
     "metadata": {},
     "output_type": "display_data"
    },
    {
     "name": "stdout",
     "output_type": "stream",
     "text": [
      "Total number of chips  112429\n"
     ]
    },
    {
     "data": {
      "text/html": [
       "<div>\n",
       "<style scoped>\n",
       "    .dataframe tbody tr th:only-of-type {\n",
       "        vertical-align: middle;\n",
       "    }\n",
       "\n",
       "    .dataframe tbody tr th {\n",
       "        vertical-align: top;\n",
       "    }\n",
       "\n",
       "    .dataframe thead th {\n",
       "        text-align: right;\n",
       "    }\n",
       "</style>\n",
       "<table border=\"1\" class=\"dataframe\">\n",
       "  <thead>\n",
       "    <tr style=\"text-align: right;\">\n",
       "      <th></th>\n",
       "      <th>img_chip_path</th>\n",
       "      <th>lbl_chip_path</th>\n",
       "      <th>origin_img</th>\n",
       "      <th>time_of_acquisition</th>\n",
       "      <th>crop_type</th>\n",
       "      <th>original_mask_score</th>\n",
       "    </tr>\n",
       "  </thead>\n",
       "  <tbody>\n",
       "    <tr>\n",
       "      <th>0</th>\n",
       "      <td>images/IMG_2022_361_chip_0000.npy</td>\n",
       "      <td>masks/IMG_2022_361_mask_chip_0000.png</td>\n",
       "      <td>IMG_2022_361</td>\n",
       "      <td>2022-08-11 11:42:38</td>\n",
       "      <td>Soybean</td>\n",
       "      <td>0.990133</td>\n",
       "    </tr>\n",
       "    <tr>\n",
       "      <th>1</th>\n",
       "      <td>images/IMG_2022_361_chip_0001.npy</td>\n",
       "      <td>masks/IMG_2022_361_mask_chip_0001.png</td>\n",
       "      <td>IMG_2022_361</td>\n",
       "      <td>2022-08-11 11:42:38</td>\n",
       "      <td>Soybean</td>\n",
       "      <td>0.990133</td>\n",
       "    </tr>\n",
       "    <tr>\n",
       "      <th>2</th>\n",
       "      <td>images/IMG_2022_361_chip_0002.npy</td>\n",
       "      <td>masks/IMG_2022_361_mask_chip_0002.png</td>\n",
       "      <td>IMG_2022_361</td>\n",
       "      <td>2022-08-11 11:42:38</td>\n",
       "      <td>Soybean</td>\n",
       "      <td>0.990133</td>\n",
       "    </tr>\n",
       "    <tr>\n",
       "      <th>3</th>\n",
       "      <td>images/IMG_2022_361_chip_0003.npy</td>\n",
       "      <td>masks/IMG_2022_361_mask_chip_0003.png</td>\n",
       "      <td>IMG_2022_361</td>\n",
       "      <td>2022-08-11 11:42:38</td>\n",
       "      <td>Soybean</td>\n",
       "      <td>0.990133</td>\n",
       "    </tr>\n",
       "    <tr>\n",
       "      <th>4</th>\n",
       "      <td>images/IMG_2022_361_chip_0004.npy</td>\n",
       "      <td>masks/IMG_2022_361_mask_chip_0004.png</td>\n",
       "      <td>IMG_2022_361</td>\n",
       "      <td>2022-08-11 11:42:38</td>\n",
       "      <td>Soybean</td>\n",
       "      <td>0.990133</td>\n",
       "    </tr>\n",
       "  </tbody>\n",
       "</table>\n",
       "</div>"
      ],
      "text/plain": [
       "                       img_chip_path                          lbl_chip_path  \\\n",
       "0  images/IMG_2022_361_chip_0000.npy  masks/IMG_2022_361_mask_chip_0000.png   \n",
       "1  images/IMG_2022_361_chip_0001.npy  masks/IMG_2022_361_mask_chip_0001.png   \n",
       "2  images/IMG_2022_361_chip_0002.npy  masks/IMG_2022_361_mask_chip_0002.png   \n",
       "3  images/IMG_2022_361_chip_0003.npy  masks/IMG_2022_361_mask_chip_0003.png   \n",
       "4  images/IMG_2022_361_chip_0004.npy  masks/IMG_2022_361_mask_chip_0004.png   \n",
       "\n",
       "     origin_img time_of_acquisition crop_type  original_mask_score  \n",
       "0  IMG_2022_361 2022-08-11 11:42:38   Soybean             0.990133  \n",
       "1  IMG_2022_361 2022-08-11 11:42:38   Soybean             0.990133  \n",
       "2  IMG_2022_361 2022-08-11 11:42:38   Soybean             0.990133  \n",
       "3  IMG_2022_361 2022-08-11 11:42:38   Soybean             0.990133  \n",
       "4  IMG_2022_361 2022-08-11 11:42:38   Soybean             0.990133  "
      ]
     },
     "execution_count": 9,
     "metadata": {},
     "output_type": "execute_result"
    }
   ],
   "source": [
    "train_out_path = \"/workspace/data/masked_data_csiss/training\"\n",
    "val_out_path = \"/workspace/data/masked_data_csiss/validation\"\n",
    "# Process the DataFrame to generate chips and a new DataFrame with chip info\n",
    "chip_df = process_image_dataframe(train_df, \n",
    "                                  usage = \"train\", \n",
    "                                  chip_size=224, \n",
    "                                  overlap=32, \n",
    "                                  output_dir=train_out_path,\n",
    "                                  method=\"pure\")\n",
    "\n",
    "# Display the new DataFrame with chip information\n",
    "chip_df.head()"
   ]
  },
  {
   "cell_type": "code",
   "execution_count": 10,
   "metadata": {},
   "outputs": [
    {
     "data": {
      "application/vnd.jupyter.widget-view+json": {
       "model_id": "7b4ddd2bc457423f80d89509b73a923d",
       "version_major": 2,
       "version_minor": 0
      },
      "text/plain": [
       "Processing Images:   0%|          | 0/138 [00:00<?, ?it/s]"
      ]
     },
     "metadata": {},
     "output_type": "display_data"
    },
    {
     "name": "stdout",
     "output_type": "stream",
     "text": [
      "Total number of chips  28785\n"
     ]
    },
    {
     "data": {
      "text/html": [
       "<div>\n",
       "<style scoped>\n",
       "    .dataframe tbody tr th:only-of-type {\n",
       "        vertical-align: middle;\n",
       "    }\n",
       "\n",
       "    .dataframe tbody tr th {\n",
       "        vertical-align: top;\n",
       "    }\n",
       "\n",
       "    .dataframe thead th {\n",
       "        text-align: right;\n",
       "    }\n",
       "</style>\n",
       "<table border=\"1\" class=\"dataframe\">\n",
       "  <thead>\n",
       "    <tr style=\"text-align: right;\">\n",
       "      <th></th>\n",
       "      <th>img_chip_path</th>\n",
       "      <th>lbl_chip_path</th>\n",
       "      <th>origin_img</th>\n",
       "      <th>time_of_acquisition</th>\n",
       "      <th>crop_type</th>\n",
       "      <th>original_mask_score</th>\n",
       "    </tr>\n",
       "  </thead>\n",
       "  <tbody>\n",
       "    <tr>\n",
       "      <th>0</th>\n",
       "      <td>images/IMG_2022_371_chip_0000.npy</td>\n",
       "      <td>masks/IMG_2022_371_mask_chip_0000.png</td>\n",
       "      <td>IMG_2022_371</td>\n",
       "      <td>2022-08-11 11:52:36</td>\n",
       "      <td>Maize</td>\n",
       "      <td>0.922808</td>\n",
       "    </tr>\n",
       "    <tr>\n",
       "      <th>1</th>\n",
       "      <td>images/IMG_2022_371_chip_0001.npy</td>\n",
       "      <td>masks/IMG_2022_371_mask_chip_0001.png</td>\n",
       "      <td>IMG_2022_371</td>\n",
       "      <td>2022-08-11 11:52:36</td>\n",
       "      <td>Maize</td>\n",
       "      <td>0.922808</td>\n",
       "    </tr>\n",
       "    <tr>\n",
       "      <th>2</th>\n",
       "      <td>images/IMG_2022_371_chip_0002.npy</td>\n",
       "      <td>masks/IMG_2022_371_mask_chip_0002.png</td>\n",
       "      <td>IMG_2022_371</td>\n",
       "      <td>2022-08-11 11:52:36</td>\n",
       "      <td>Maize</td>\n",
       "      <td>0.922808</td>\n",
       "    </tr>\n",
       "    <tr>\n",
       "      <th>3</th>\n",
       "      <td>images/IMG_2022_371_chip_0003.npy</td>\n",
       "      <td>masks/IMG_2022_371_mask_chip_0003.png</td>\n",
       "      <td>IMG_2022_371</td>\n",
       "      <td>2022-08-11 11:52:36</td>\n",
       "      <td>Maize</td>\n",
       "      <td>0.922808</td>\n",
       "    </tr>\n",
       "    <tr>\n",
       "      <th>4</th>\n",
       "      <td>images/IMG_2022_371_chip_0004.npy</td>\n",
       "      <td>masks/IMG_2022_371_mask_chip_0004.png</td>\n",
       "      <td>IMG_2022_371</td>\n",
       "      <td>2022-08-11 11:52:36</td>\n",
       "      <td>Maize</td>\n",
       "      <td>0.922808</td>\n",
       "    </tr>\n",
       "  </tbody>\n",
       "</table>\n",
       "</div>"
      ],
      "text/plain": [
       "                       img_chip_path                          lbl_chip_path  \\\n",
       "0  images/IMG_2022_371_chip_0000.npy  masks/IMG_2022_371_mask_chip_0000.png   \n",
       "1  images/IMG_2022_371_chip_0001.npy  masks/IMG_2022_371_mask_chip_0001.png   \n",
       "2  images/IMG_2022_371_chip_0002.npy  masks/IMG_2022_371_mask_chip_0002.png   \n",
       "3  images/IMG_2022_371_chip_0003.npy  masks/IMG_2022_371_mask_chip_0003.png   \n",
       "4  images/IMG_2022_371_chip_0004.npy  masks/IMG_2022_371_mask_chip_0004.png   \n",
       "\n",
       "     origin_img time_of_acquisition crop_type  original_mask_score  \n",
       "0  IMG_2022_371 2022-08-11 11:52:36     Maize             0.922808  \n",
       "1  IMG_2022_371 2022-08-11 11:52:36     Maize             0.922808  \n",
       "2  IMG_2022_371 2022-08-11 11:52:36     Maize             0.922808  \n",
       "3  IMG_2022_371 2022-08-11 11:52:36     Maize             0.922808  \n",
       "4  IMG_2022_371 2022-08-11 11:52:36     Maize             0.922808  "
      ]
     },
     "execution_count": 10,
     "metadata": {},
     "output_type": "execute_result"
    }
   ],
   "source": [
    "val_chip_df = process_image_dataframe(test_df, \n",
    "                                    usage = \"validation\", \n",
    "                                    chip_size=224, \n",
    "                                    overlap=32,  \n",
    "                                    output_dir=val_out_path,\n",
    "                                    method=\"pure\")\n",
    "\n",
    "# Display the new DataFrame with chip information\n",
    "val_chip_df.head()"
   ]
  },
  {
   "cell_type": "code",
   "execution_count": 11,
   "metadata": {},
   "outputs": [],
   "source": [
    "train_df_path = \"/workspace/data/masked_data_csiss/training/train_chipping_csv.csv\"\n",
    "val_df_path = \"/workspace/data/masked_data_csiss/validation/validation_chipping_csv.csv\""
   ]
  },
  {
   "cell_type": "code",
   "execution_count": 12,
   "metadata": {},
   "outputs": [],
   "source": [
    "train_df = pd.read_csv(train_df_path)\n",
    "val_df = pd.read_csv(val_df_path)"
   ]
  },
  {
   "cell_type": "code",
   "execution_count": 13,
   "metadata": {},
   "outputs": [
    {
     "data": {
      "text/html": [
       "<div>\n",
       "<style scoped>\n",
       "    .dataframe tbody tr th:only-of-type {\n",
       "        vertical-align: middle;\n",
       "    }\n",
       "\n",
       "    .dataframe tbody tr th {\n",
       "        vertical-align: top;\n",
       "    }\n",
       "\n",
       "    .dataframe thead th {\n",
       "        text-align: right;\n",
       "    }\n",
       "</style>\n",
       "<table border=\"1\" class=\"dataframe\">\n",
       "  <thead>\n",
       "    <tr style=\"text-align: right;\">\n",
       "      <th></th>\n",
       "      <th>img_chip_path</th>\n",
       "      <th>lbl_chip_path</th>\n",
       "      <th>origin_img</th>\n",
       "      <th>time_of_acquisition</th>\n",
       "      <th>crop_type</th>\n",
       "      <th>original_mask_score</th>\n",
       "    </tr>\n",
       "  </thead>\n",
       "  <tbody>\n",
       "    <tr>\n",
       "      <th>0</th>\n",
       "      <td>images/IMG_2022_361_chip_0000.npy</td>\n",
       "      <td>masks/IMG_2022_361_mask_chip_0000.png</td>\n",
       "      <td>IMG_2022_361</td>\n",
       "      <td>2022-08-11 11:42:38</td>\n",
       "      <td>Soybean</td>\n",
       "      <td>0.990133</td>\n",
       "    </tr>\n",
       "    <tr>\n",
       "      <th>1</th>\n",
       "      <td>images/IMG_2022_361_chip_0001.npy</td>\n",
       "      <td>masks/IMG_2022_361_mask_chip_0001.png</td>\n",
       "      <td>IMG_2022_361</td>\n",
       "      <td>2022-08-11 11:42:38</td>\n",
       "      <td>Soybean</td>\n",
       "      <td>0.990133</td>\n",
       "    </tr>\n",
       "    <tr>\n",
       "      <th>2</th>\n",
       "      <td>images/IMG_2022_361_chip_0002.npy</td>\n",
       "      <td>masks/IMG_2022_361_mask_chip_0002.png</td>\n",
       "      <td>IMG_2022_361</td>\n",
       "      <td>2022-08-11 11:42:38</td>\n",
       "      <td>Soybean</td>\n",
       "      <td>0.990133</td>\n",
       "    </tr>\n",
       "    <tr>\n",
       "      <th>3</th>\n",
       "      <td>images/IMG_2022_361_chip_0003.npy</td>\n",
       "      <td>masks/IMG_2022_361_mask_chip_0003.png</td>\n",
       "      <td>IMG_2022_361</td>\n",
       "      <td>2022-08-11 11:42:38</td>\n",
       "      <td>Soybean</td>\n",
       "      <td>0.990133</td>\n",
       "    </tr>\n",
       "    <tr>\n",
       "      <th>4</th>\n",
       "      <td>images/IMG_2022_361_chip_0004.npy</td>\n",
       "      <td>masks/IMG_2022_361_mask_chip_0004.png</td>\n",
       "      <td>IMG_2022_361</td>\n",
       "      <td>2022-08-11 11:42:38</td>\n",
       "      <td>Soybean</td>\n",
       "      <td>0.990133</td>\n",
       "    </tr>\n",
       "  </tbody>\n",
       "</table>\n",
       "</div>"
      ],
      "text/plain": [
       "                       img_chip_path                          lbl_chip_path  \\\n",
       "0  images/IMG_2022_361_chip_0000.npy  masks/IMG_2022_361_mask_chip_0000.png   \n",
       "1  images/IMG_2022_361_chip_0001.npy  masks/IMG_2022_361_mask_chip_0001.png   \n",
       "2  images/IMG_2022_361_chip_0002.npy  masks/IMG_2022_361_mask_chip_0002.png   \n",
       "3  images/IMG_2022_361_chip_0003.npy  masks/IMG_2022_361_mask_chip_0003.png   \n",
       "4  images/IMG_2022_361_chip_0004.npy  masks/IMG_2022_361_mask_chip_0004.png   \n",
       "\n",
       "     origin_img  time_of_acquisition crop_type  original_mask_score  \n",
       "0  IMG_2022_361  2022-08-11 11:42:38   Soybean             0.990133  \n",
       "1  IMG_2022_361  2022-08-11 11:42:38   Soybean             0.990133  \n",
       "2  IMG_2022_361  2022-08-11 11:42:38   Soybean             0.990133  \n",
       "3  IMG_2022_361  2022-08-11 11:42:38   Soybean             0.990133  \n",
       "4  IMG_2022_361  2022-08-11 11:42:38   Soybean             0.990133  "
      ]
     },
     "execution_count": 13,
     "metadata": {},
     "output_type": "execute_result"
    }
   ],
   "source": [
    "train_df.head()"
   ]
  },
  {
   "cell_type": "code",
   "execution_count": 14,
   "metadata": {},
   "outputs": [
    {
     "data": {
      "text/html": [
       "<div>\n",
       "<style scoped>\n",
       "    .dataframe tbody tr th:only-of-type {\n",
       "        vertical-align: middle;\n",
       "    }\n",
       "\n",
       "    .dataframe tbody tr th {\n",
       "        vertical-align: top;\n",
       "    }\n",
       "\n",
       "    .dataframe thead th {\n",
       "        text-align: right;\n",
       "    }\n",
       "</style>\n",
       "<table border=\"1\" class=\"dataframe\">\n",
       "  <thead>\n",
       "    <tr style=\"text-align: right;\">\n",
       "      <th></th>\n",
       "      <th>img_chip_path</th>\n",
       "      <th>lbl_chip_path</th>\n",
       "      <th>origin_img</th>\n",
       "      <th>time_of_acquisition</th>\n",
       "      <th>crop_type</th>\n",
       "      <th>original_mask_score</th>\n",
       "      <th>crop_stage</th>\n",
       "    </tr>\n",
       "  </thead>\n",
       "  <tbody>\n",
       "    <tr>\n",
       "      <th>0</th>\n",
       "      <td>images/IMG_2022_361_chip_0000.npy</td>\n",
       "      <td>masks/IMG_2022_361_mask_chip_0000.png</td>\n",
       "      <td>IMG_2022_361</td>\n",
       "      <td>2022-08-11 11:42:38</td>\n",
       "      <td>Soybean</td>\n",
       "      <td>0.990133</td>\n",
       "      <td>growing</td>\n",
       "    </tr>\n",
       "    <tr>\n",
       "      <th>1</th>\n",
       "      <td>images/IMG_2022_361_chip_0001.npy</td>\n",
       "      <td>masks/IMG_2022_361_mask_chip_0001.png</td>\n",
       "      <td>IMG_2022_361</td>\n",
       "      <td>2022-08-11 11:42:38</td>\n",
       "      <td>Soybean</td>\n",
       "      <td>0.990133</td>\n",
       "      <td>growing</td>\n",
       "    </tr>\n",
       "    <tr>\n",
       "      <th>2</th>\n",
       "      <td>images/IMG_2022_361_chip_0002.npy</td>\n",
       "      <td>masks/IMG_2022_361_mask_chip_0002.png</td>\n",
       "      <td>IMG_2022_361</td>\n",
       "      <td>2022-08-11 11:42:38</td>\n",
       "      <td>Soybean</td>\n",
       "      <td>0.990133</td>\n",
       "      <td>growing</td>\n",
       "    </tr>\n",
       "  </tbody>\n",
       "</table>\n",
       "</div>"
      ],
      "text/plain": [
       "                       img_chip_path                          lbl_chip_path  \\\n",
       "0  images/IMG_2022_361_chip_0000.npy  masks/IMG_2022_361_mask_chip_0000.png   \n",
       "1  images/IMG_2022_361_chip_0001.npy  masks/IMG_2022_361_mask_chip_0001.png   \n",
       "2  images/IMG_2022_361_chip_0002.npy  masks/IMG_2022_361_mask_chip_0002.png   \n",
       "\n",
       "     origin_img  time_of_acquisition crop_type  original_mask_score crop_stage  \n",
       "0  IMG_2022_361  2022-08-11 11:42:38   Soybean             0.990133    growing  \n",
       "1  IMG_2022_361  2022-08-11 11:42:38   Soybean             0.990133    growing  \n",
       "2  IMG_2022_361  2022-08-11 11:42:38   Soybean             0.990133    growing  "
      ]
     },
     "execution_count": 14,
     "metadata": {},
     "output_type": "execute_result"
    }
   ],
   "source": [
    "from utils import check_crop_stage\n",
    "from datetime import datetime\n",
    "\n",
    "def get_month(date_str):\n",
    "    date_obj = datetime.strptime(date_str, \"%Y-%m-%d %H:%M:%S\")\n",
    "    return date_obj.month\n",
    "\n",
    "train_df['crop_stage'] = train_df.apply(\n",
    "    lambda row: check_crop_stage(row['crop_type'], get_month(row['time_of_acquisition'])) \n",
    "    if row['crop_type'].lower() in ['maize', 'soybean'] else None,\n",
    "    axis=1\n",
    ")\n",
    "\n",
    "# Display the updated dataframe\n",
    "train_df.head(3)"
   ]
  },
  {
   "cell_type": "code",
   "execution_count": 15,
   "metadata": {},
   "outputs": [
    {
     "data": {
      "text/html": [
       "<div>\n",
       "<style scoped>\n",
       "    .dataframe tbody tr th:only-of-type {\n",
       "        vertical-align: middle;\n",
       "    }\n",
       "\n",
       "    .dataframe tbody tr th {\n",
       "        vertical-align: top;\n",
       "    }\n",
       "\n",
       "    .dataframe thead th {\n",
       "        text-align: right;\n",
       "    }\n",
       "</style>\n",
       "<table border=\"1\" class=\"dataframe\">\n",
       "  <thead>\n",
       "    <tr style=\"text-align: right;\">\n",
       "      <th></th>\n",
       "      <th>img_chip_path</th>\n",
       "      <th>lbl_chip_path</th>\n",
       "      <th>origin_img</th>\n",
       "      <th>time_of_acquisition</th>\n",
       "      <th>crop_type</th>\n",
       "      <th>original_mask_score</th>\n",
       "      <th>crop_stage</th>\n",
       "    </tr>\n",
       "  </thead>\n",
       "  <tbody>\n",
       "    <tr>\n",
       "      <th>0</th>\n",
       "      <td>images/IMG_2022_371_chip_0000.npy</td>\n",
       "      <td>masks/IMG_2022_371_mask_chip_0000.png</td>\n",
       "      <td>IMG_2022_371</td>\n",
       "      <td>2022-08-11 11:52:36</td>\n",
       "      <td>Maize</td>\n",
       "      <td>0.922808</td>\n",
       "      <td>growing</td>\n",
       "    </tr>\n",
       "    <tr>\n",
       "      <th>1</th>\n",
       "      <td>images/IMG_2022_371_chip_0001.npy</td>\n",
       "      <td>masks/IMG_2022_371_mask_chip_0001.png</td>\n",
       "      <td>IMG_2022_371</td>\n",
       "      <td>2022-08-11 11:52:36</td>\n",
       "      <td>Maize</td>\n",
       "      <td>0.922808</td>\n",
       "      <td>growing</td>\n",
       "    </tr>\n",
       "    <tr>\n",
       "      <th>2</th>\n",
       "      <td>images/IMG_2022_371_chip_0002.npy</td>\n",
       "      <td>masks/IMG_2022_371_mask_chip_0002.png</td>\n",
       "      <td>IMG_2022_371</td>\n",
       "      <td>2022-08-11 11:52:36</td>\n",
       "      <td>Maize</td>\n",
       "      <td>0.922808</td>\n",
       "      <td>growing</td>\n",
       "    </tr>\n",
       "  </tbody>\n",
       "</table>\n",
       "</div>"
      ],
      "text/plain": [
       "                       img_chip_path                          lbl_chip_path  \\\n",
       "0  images/IMG_2022_371_chip_0000.npy  masks/IMG_2022_371_mask_chip_0000.png   \n",
       "1  images/IMG_2022_371_chip_0001.npy  masks/IMG_2022_371_mask_chip_0001.png   \n",
       "2  images/IMG_2022_371_chip_0002.npy  masks/IMG_2022_371_mask_chip_0002.png   \n",
       "\n",
       "     origin_img  time_of_acquisition crop_type  original_mask_score crop_stage  \n",
       "0  IMG_2022_371  2022-08-11 11:52:36     Maize             0.922808    growing  \n",
       "1  IMG_2022_371  2022-08-11 11:52:36     Maize             0.922808    growing  \n",
       "2  IMG_2022_371  2022-08-11 11:52:36     Maize             0.922808    growing  "
      ]
     },
     "execution_count": 15,
     "metadata": {},
     "output_type": "execute_result"
    }
   ],
   "source": [
    "val_df['crop_stage'] = val_df.apply(\n",
    "    lambda row: check_crop_stage(row['crop_type'], get_month(row['time_of_acquisition'])) \n",
    "    if row['crop_type'].lower() in ['maize', 'soybean'] else None,\n",
    "    axis=1\n",
    ")\n",
    "\n",
    "val_df.head(3)"
   ]
  },
  {
   "cell_type": "code",
   "execution_count": 16,
   "metadata": {},
   "outputs": [],
   "source": [
    "def convert_crop_stage_to_numeric(crop_stage):\n",
    "    \"\"\"\n",
    "    Convert crop stage to numerical values:\n",
    "    - None -> 0\n",
    "    - \"growing\" -> 1\n",
    "    - \"harvesting\" -> 2\n",
    "    - Other values (including \"planting\" and \"Not on Calendar\") -> 0\n",
    "\n",
    "    Parameters\n",
    "    ----------\n",
    "    crop_stage : str or None\n",
    "        The crop stage (e.g., \"growing\", \"harvesting\") or None.\n",
    "\n",
    "    Returns\n",
    "    -------\n",
    "    int\n",
    "        The numerical representation of the crop stage.\n",
    "    \"\"\"\n",
    "    if crop_stage is None:\n",
    "        return 0\n",
    "    elif crop_stage.lower() == \"growing\":\n",
    "        return 1\n",
    "    elif crop_stage.lower() == \"harvesting\":\n",
    "        return 2\n",
    "    else:\n",
    "        return 0  # For \"planting\" or \"Not on Calendar\" or any other stage\n"
   ]
  },
  {
   "cell_type": "code",
   "execution_count": 17,
   "metadata": {},
   "outputs": [],
   "source": [
    "train_df['crop_stage_numeric'] = train_df['crop_stage'].apply(convert_crop_stage_to_numeric)\n",
    "val_df['crop_stage_numeric'] = val_df['crop_stage'].apply(convert_crop_stage_to_numeric)\n"
   ]
  },
  {
   "cell_type": "code",
   "execution_count": 18,
   "metadata": {},
   "outputs": [
    {
     "data": {
      "text/html": [
       "<div>\n",
       "<style scoped>\n",
       "    .dataframe tbody tr th:only-of-type {\n",
       "        vertical-align: middle;\n",
       "    }\n",
       "\n",
       "    .dataframe tbody tr th {\n",
       "        vertical-align: top;\n",
       "    }\n",
       "\n",
       "    .dataframe thead th {\n",
       "        text-align: right;\n",
       "    }\n",
       "</style>\n",
       "<table border=\"1\" class=\"dataframe\">\n",
       "  <thead>\n",
       "    <tr style=\"text-align: right;\">\n",
       "      <th></th>\n",
       "      <th>img_chip_path</th>\n",
       "      <th>lbl_chip_path</th>\n",
       "      <th>origin_img</th>\n",
       "      <th>time_of_acquisition</th>\n",
       "      <th>crop_type</th>\n",
       "      <th>original_mask_score</th>\n",
       "      <th>crop_stage</th>\n",
       "      <th>crop_stage_numeric</th>\n",
       "    </tr>\n",
       "  </thead>\n",
       "  <tbody>\n",
       "    <tr>\n",
       "      <th>0</th>\n",
       "      <td>images/IMG_2022_361_chip_0000.npy</td>\n",
       "      <td>masks/IMG_2022_361_mask_chip_0000.png</td>\n",
       "      <td>IMG_2022_361</td>\n",
       "      <td>2022-08-11 11:42:38</td>\n",
       "      <td>Soybean</td>\n",
       "      <td>0.990133</td>\n",
       "      <td>growing</td>\n",
       "      <td>1</td>\n",
       "    </tr>\n",
       "    <tr>\n",
       "      <th>1</th>\n",
       "      <td>images/IMG_2022_361_chip_0001.npy</td>\n",
       "      <td>masks/IMG_2022_361_mask_chip_0001.png</td>\n",
       "      <td>IMG_2022_361</td>\n",
       "      <td>2022-08-11 11:42:38</td>\n",
       "      <td>Soybean</td>\n",
       "      <td>0.990133</td>\n",
       "      <td>growing</td>\n",
       "      <td>1</td>\n",
       "    </tr>\n",
       "    <tr>\n",
       "      <th>2</th>\n",
       "      <td>images/IMG_2022_361_chip_0002.npy</td>\n",
       "      <td>masks/IMG_2022_361_mask_chip_0002.png</td>\n",
       "      <td>IMG_2022_361</td>\n",
       "      <td>2022-08-11 11:42:38</td>\n",
       "      <td>Soybean</td>\n",
       "      <td>0.990133</td>\n",
       "      <td>growing</td>\n",
       "      <td>1</td>\n",
       "    </tr>\n",
       "  </tbody>\n",
       "</table>\n",
       "</div>"
      ],
      "text/plain": [
       "                       img_chip_path                          lbl_chip_path  \\\n",
       "0  images/IMG_2022_361_chip_0000.npy  masks/IMG_2022_361_mask_chip_0000.png   \n",
       "1  images/IMG_2022_361_chip_0001.npy  masks/IMG_2022_361_mask_chip_0001.png   \n",
       "2  images/IMG_2022_361_chip_0002.npy  masks/IMG_2022_361_mask_chip_0002.png   \n",
       "\n",
       "     origin_img  time_of_acquisition crop_type  original_mask_score  \\\n",
       "0  IMG_2022_361  2022-08-11 11:42:38   Soybean             0.990133   \n",
       "1  IMG_2022_361  2022-08-11 11:42:38   Soybean             0.990133   \n",
       "2  IMG_2022_361  2022-08-11 11:42:38   Soybean             0.990133   \n",
       "\n",
       "  crop_stage  crop_stage_numeric  \n",
       "0    growing                   1  \n",
       "1    growing                   1  \n",
       "2    growing                   1  "
      ]
     },
     "execution_count": 18,
     "metadata": {},
     "output_type": "execute_result"
    }
   ],
   "source": [
    "train_df.head(3)"
   ]
  },
  {
   "cell_type": "code",
   "execution_count": 19,
   "metadata": {},
   "outputs": [
    {
     "data": {
      "text/html": [
       "<div>\n",
       "<style scoped>\n",
       "    .dataframe tbody tr th:only-of-type {\n",
       "        vertical-align: middle;\n",
       "    }\n",
       "\n",
       "    .dataframe tbody tr th {\n",
       "        vertical-align: top;\n",
       "    }\n",
       "\n",
       "    .dataframe thead th {\n",
       "        text-align: right;\n",
       "    }\n",
       "</style>\n",
       "<table border=\"1\" class=\"dataframe\">\n",
       "  <thead>\n",
       "    <tr style=\"text-align: right;\">\n",
       "      <th></th>\n",
       "      <th>img_chip_path</th>\n",
       "      <th>lbl_chip_path</th>\n",
       "      <th>origin_img</th>\n",
       "      <th>time_of_acquisition</th>\n",
       "      <th>crop_type</th>\n",
       "      <th>original_mask_score</th>\n",
       "      <th>crop_stage</th>\n",
       "      <th>crop_stage_numeric</th>\n",
       "    </tr>\n",
       "  </thead>\n",
       "  <tbody>\n",
       "    <tr>\n",
       "      <th>0</th>\n",
       "      <td>images/IMG_2022_371_chip_0000.npy</td>\n",
       "      <td>masks/IMG_2022_371_mask_chip_0000.png</td>\n",
       "      <td>IMG_2022_371</td>\n",
       "      <td>2022-08-11 11:52:36</td>\n",
       "      <td>Maize</td>\n",
       "      <td>0.922808</td>\n",
       "      <td>growing</td>\n",
       "      <td>1</td>\n",
       "    </tr>\n",
       "    <tr>\n",
       "      <th>1</th>\n",
       "      <td>images/IMG_2022_371_chip_0001.npy</td>\n",
       "      <td>masks/IMG_2022_371_mask_chip_0001.png</td>\n",
       "      <td>IMG_2022_371</td>\n",
       "      <td>2022-08-11 11:52:36</td>\n",
       "      <td>Maize</td>\n",
       "      <td>0.922808</td>\n",
       "      <td>growing</td>\n",
       "      <td>1</td>\n",
       "    </tr>\n",
       "    <tr>\n",
       "      <th>2</th>\n",
       "      <td>images/IMG_2022_371_chip_0002.npy</td>\n",
       "      <td>masks/IMG_2022_371_mask_chip_0002.png</td>\n",
       "      <td>IMG_2022_371</td>\n",
       "      <td>2022-08-11 11:52:36</td>\n",
       "      <td>Maize</td>\n",
       "      <td>0.922808</td>\n",
       "      <td>growing</td>\n",
       "      <td>1</td>\n",
       "    </tr>\n",
       "  </tbody>\n",
       "</table>\n",
       "</div>"
      ],
      "text/plain": [
       "                       img_chip_path                          lbl_chip_path  \\\n",
       "0  images/IMG_2022_371_chip_0000.npy  masks/IMG_2022_371_mask_chip_0000.png   \n",
       "1  images/IMG_2022_371_chip_0001.npy  masks/IMG_2022_371_mask_chip_0001.png   \n",
       "2  images/IMG_2022_371_chip_0002.npy  masks/IMG_2022_371_mask_chip_0002.png   \n",
       "\n",
       "     origin_img  time_of_acquisition crop_type  original_mask_score  \\\n",
       "0  IMG_2022_371  2022-08-11 11:52:36     Maize             0.922808   \n",
       "1  IMG_2022_371  2022-08-11 11:52:36     Maize             0.922808   \n",
       "2  IMG_2022_371  2022-08-11 11:52:36     Maize             0.922808   \n",
       "\n",
       "  crop_stage  crop_stage_numeric  \n",
       "0    growing                   1  \n",
       "1    growing                   1  \n",
       "2    growing                   1  "
      ]
     },
     "execution_count": 19,
     "metadata": {},
     "output_type": "execute_result"
    }
   ],
   "source": [
    "val_df.head(3)"
   ]
  },
  {
   "cell_type": "code",
   "execution_count": 20,
   "metadata": {},
   "outputs": [],
   "source": [
    "train_df.to_csv(\"/workspace/data/masked_data_csiss/training/train_chipping_csv_w_anc.csv\")\n",
    "val_df.to_csv(\"/workspace/data/masked_data_csiss/validation/validation_chipping_csv_w_anc.csv\")"
   ]
  },
  {
   "cell_type": "code",
   "execution_count": 21,
   "metadata": {},
   "outputs": [],
   "source": [
    "train_df = pd.read_csv(\"/workspace/data/masked_data_csiss/training/train_chipping_csv_w_anc.csv\", index_col=0)\n",
    "val_df = pd.read_csv(\"/workspace/data/masked_data_csiss/validation/validation_chipping_csv_w_anc.csv\", index_col=0)"
   ]
  },
  {
   "cell_type": "code",
   "execution_count": 22,
   "metadata": {},
   "outputs": [],
   "source": [
    "save_path = \"/workspace/data/masked_data_csiss/training\"\n",
    "save_path_val = \"/workspace/data/masked_data_csiss/validation/\""
   ]
  },
  {
   "cell_type": "code",
   "execution_count": 24,
   "metadata": {},
   "outputs": [
    {
     "data": {
      "application/vnd.jupyter.widget-view+json": {
       "model_id": "336763d9bb16464b83b85ed7cfeaf9be",
       "version_major": 2,
       "version_minor": 0
      },
      "text/plain": [
       "Computing Mean/Std:   0%|          | 0/112429 [00:00<?, ?it/s]"
      ]
     },
     "metadata": {},
     "output_type": "display_data"
    },
    {
     "name": "stdout",
     "output_type": "stream",
     "text": [
      "Mean of dataset: [121.65670372 161.46653486 158.23006705 161.48324796 227.81869621\n",
      " 146.17250505  74.17987694  98.37069385 175.44668774   0.59970105]\n",
      "Std of dataset: [ 52.67447251  55.39850822  78.60574882  53.93343019  59.63657872\n",
      " 109.67295329  29.33554407  55.42471356  62.5700217    0.21684658]\n"
     ]
    },
    {
     "data": {
      "text/plain": [
       "(array([121.65670372, 161.46653486, 158.23006705, 161.48324796,\n",
       "        227.81869621, 146.17250505,  74.17987694,  98.37069385,\n",
       "        175.44668774,   0.59970105]),\n",
       " array([ 52.67447251,  55.39850822,  78.60574882,  53.93343019,\n",
       "         59.63657872, 109.67295329,  29.33554407,  55.42471356,\n",
       "         62.5700217 ,   0.21684658]))"
      ]
     },
     "execution_count": 24,
     "metadata": {},
     "output_type": "execute_result"
    }
   ],
   "source": [
    "calculate_npy_dataset_mean_std(train_df, save_path = save_path)"
   ]
  },
  {
   "cell_type": "code",
   "execution_count": 25,
   "metadata": {},
   "outputs": [
    {
     "data": {
      "application/vnd.jupyter.widget-view+json": {
       "model_id": "15027f3ae342453d8be032cc78c30678",
       "version_major": 2,
       "version_minor": 0
      },
      "text/plain": [
       "Computing Mean/Std:   0%|          | 0/28785 [00:00<?, ?it/s]"
      ]
     },
     "metadata": {},
     "output_type": "display_data"
    },
    {
     "name": "stdout",
     "output_type": "stream",
     "text": [
      "Mean of dataset: [116.55829252 159.9192156  157.07218772 159.64730144 232.93981733\n",
      " 140.17248727  73.87612301 104.39620349 175.07042173   0.59085459]\n",
      "Std of dataset: [ 52.10727386  54.40206462  79.55377193  53.06491964  48.64101637\n",
      " 109.12006317  28.95246699  56.29244445  63.20585391   0.21176251]\n"
     ]
    },
    {
     "data": {
      "text/plain": [
       "(array([116.55829252, 159.9192156 , 157.07218772, 159.64730144,\n",
       "        232.93981733, 140.17248727,  73.87612301, 104.39620349,\n",
       "        175.07042173,   0.59085459]),\n",
       " array([ 52.10727386,  54.40206462,  79.55377193,  53.06491964,\n",
       "         48.64101637, 109.12006317,  28.95246699,  56.29244445,\n",
       "         63.20585391,   0.21176251]))"
      ]
     },
     "execution_count": 25,
     "metadata": {},
     "output_type": "execute_result"
    }
   ],
   "source": [
    "calculate_npy_dataset_mean_std(val_df, save_path = save_path_val)"
   ]
  },
  {
   "cell_type": "code",
   "execution_count": null,
   "metadata": {},
   "outputs": [
    {
     "data": {
      "text/html": [
       "<div>\n",
       "<style scoped>\n",
       "    .dataframe tbody tr th:only-of-type {\n",
       "        vertical-align: middle;\n",
       "    }\n",
       "\n",
       "    .dataframe tbody tr th {\n",
       "        vertical-align: top;\n",
       "    }\n",
       "\n",
       "    .dataframe thead th {\n",
       "        text-align: right;\n",
       "    }\n",
       "</style>\n",
       "<table border=\"1\" class=\"dataframe\">\n",
       "  <thead>\n",
       "    <tr style=\"text-align: right;\">\n",
       "      <th></th>\n",
       "      <th>img_chip_path</th>\n",
       "      <th>lbl_chip_path</th>\n",
       "      <th>origin_img</th>\n",
       "      <th>time_of_acquisition</th>\n",
       "      <th>crop_type</th>\n",
       "      <th>original_mask_score</th>\n",
       "      <th>crop_stage</th>\n",
       "      <th>crop_stage_numeric</th>\n",
       "    </tr>\n",
       "  </thead>\n",
       "  <tbody>\n",
       "    <tr>\n",
       "      <th>0</th>\n",
       "      <td>images/IMG_2022_361_chip_0000.npy</td>\n",
       "      <td>masks/IMG_2022_361_mask_chip_0000.png</td>\n",
       "      <td>IMG_2022_361</td>\n",
       "      <td>2022-08-11 11:42:38</td>\n",
       "      <td>Soybean</td>\n",
       "      <td>0.990133</td>\n",
       "      <td>growing</td>\n",
       "      <td>1</td>\n",
       "    </tr>\n",
       "    <tr>\n",
       "      <th>1</th>\n",
       "      <td>images/IMG_2022_361_chip_0001.npy</td>\n",
       "      <td>masks/IMG_2022_361_mask_chip_0001.png</td>\n",
       "      <td>IMG_2022_361</td>\n",
       "      <td>2022-08-11 11:42:38</td>\n",
       "      <td>Soybean</td>\n",
       "      <td>0.990133</td>\n",
       "      <td>growing</td>\n",
       "      <td>1</td>\n",
       "    </tr>\n",
       "    <tr>\n",
       "      <th>2</th>\n",
       "      <td>images/IMG_2022_361_chip_0002.npy</td>\n",
       "      <td>masks/IMG_2022_361_mask_chip_0002.png</td>\n",
       "      <td>IMG_2022_361</td>\n",
       "      <td>2022-08-11 11:42:38</td>\n",
       "      <td>Soybean</td>\n",
       "      <td>0.990133</td>\n",
       "      <td>growing</td>\n",
       "      <td>1</td>\n",
       "    </tr>\n",
       "  </tbody>\n",
       "</table>\n",
       "</div>"
      ],
      "text/plain": [
       "                       img_chip_path                          lbl_chip_path  \\\n",
       "0  images/IMG_2022_361_chip_0000.npy  masks/IMG_2022_361_mask_chip_0000.png   \n",
       "1  images/IMG_2022_361_chip_0001.npy  masks/IMG_2022_361_mask_chip_0001.png   \n",
       "2  images/IMG_2022_361_chip_0002.npy  masks/IMG_2022_361_mask_chip_0002.png   \n",
       "\n",
       "     origin_img  time_of_acquisition crop_type  original_mask_score  \\\n",
       "0  IMG_2022_361  2022-08-11 11:42:38   Soybean             0.990133   \n",
       "1  IMG_2022_361  2022-08-11 11:42:38   Soybean             0.990133   \n",
       "2  IMG_2022_361  2022-08-11 11:42:38   Soybean             0.990133   \n",
       "\n",
       "  crop_stage  crop_stage_numeric  \n",
       "0    growing                   1  \n",
       "1    growing                   1  \n",
       "2    growing                   1  "
      ]
     },
     "execution_count": 20,
     "metadata": {},
     "output_type": "execute_result"
    }
   ],
   "source": [
    "train_df.head(3)"
   ]
  },
  {
   "cell_type": "code",
   "execution_count": 23,
   "metadata": {},
   "outputs": [
    {
     "name": "stderr",
     "output_type": "stream",
     "text": [
      "Counting Classwise Pixels: 100%|██████████| 112429/112429 [1:03:24<00:00, 29.55it/s]"
     ]
    },
    {
     "name": "stdout",
     "output_type": "stream",
     "text": [
      "Total number of class 0 (BG) pixels: 4525925376\n",
      "Total number of class 1 (Maize) pixels: 747170816\n",
      "Total number of class 2 (Soybean) pixels: 368141312\n"
     ]
    },
    {
     "name": "stderr",
     "output_type": "stream",
     "text": [
      "\n"
     ]
    }
   ],
   "source": [
    "import os\n",
    "import numpy as np\n",
    "from PIL import Image\n",
    "from tqdm import tqdm\n",
    "\n",
    "def count_classwise_pixels(df, label_column='lbl_chip_path', label_dir=''):\n",
    "    \"\"\"\n",
    "    Compute the total number of class 1 and 2 pixels from the entire dataset.\n",
    "\n",
    "    Args:\n",
    "        df (pd.DataFrame): DataFrame containing the paths to label chips.\n",
    "        label_column (str): Column name in the DataFrame with the label paths.\n",
    "        label_dir (str): Directory where the label chips are stored.\n",
    "\n",
    "    Returns:\n",
    "        int: Total number of class 1 and 2 pixels.\n",
    "    \"\"\"\n",
    "    total_class_2_pixels = 0  # Initialize counter\n",
    "    total_calss_1_pixels = 0\n",
    "    total_class_0_pixels = 0\n",
    "\n",
    "    # Iterate over each label chip path in the DataFrame\n",
    "    for label_path in tqdm(df[label_column], desc=\"Counting Classwise Pixels\"):\n",
    "        # Build the full path to the label chip\n",
    "        full_path = os.path.join(label_dir, label_path)\n",
    "\n",
    "        # Load the mask chip as a NumPy array\n",
    "        mask_chip = np.array(Image.open(full_path))\n",
    "\n",
    "        # Count the number of pixels \n",
    "        class_2_pixels = np.sum(mask_chip == 2)  # Boolean mask to count  pixels\n",
    "        class_1_pixels = np.sum(mask_chip == 1)\n",
    "        class_0_pixels = np.sum(mask_chip == 0)\n",
    "\n",
    "        # Accumulate the total number of class pixels\n",
    "        total_class_2_pixels += class_2_pixels\n",
    "        total_calss_1_pixels += class_1_pixels\n",
    "        total_class_0_pixels += class_0_pixels\n",
    "\n",
    "    return total_calss_1_pixels, total_class_2_pixels, total_class_0_pixels\n",
    "\n",
    "# Example usage\n",
    "label_dir = \"/workspace/data/masked_data_csiss/training\"  # Adjust path as needed\n",
    "c1, c2, c0 = count_classwise_pixels(train_df, label_column='lbl_chip_path', label_dir=label_dir)\n",
    "\n",
    "print(f\"Total number of class 0 (BG) pixels: {c0}\")\n",
    "print(f\"Total number of class 1 (Maize) pixels: {c1}\")\n",
    "print(f\"Total number of class 2 (Soybean) pixels: {c2}\")"
   ]
  },
  {
   "cell_type": "code",
   "execution_count": 26,
   "metadata": {},
   "outputs": [
    {
     "data": {
      "application/vnd.jupyter.widget-view+json": {
       "model_id": "4b06c2e419784703b077c58963d5de7c",
       "version_major": 2,
       "version_minor": 0
      },
      "text/plain": [
       "Training Labels:   0%|          | 0/112429 [00:00<?, ?it/s]"
      ]
     },
     "metadata": {},
     "output_type": "display_data"
    },
    {
     "data": {
      "application/vnd.jupyter.widget-view+json": {
       "model_id": "6359c9ae06b4472ba99b25ca26d87b5a",
       "version_major": 2,
       "version_minor": 0
      },
      "text/plain": [
       "Validation Labels:   0%|          | 0/28785 [00:00<?, ?it/s]"
      ]
     },
     "metadata": {},
     "output_type": "display_data"
    },
    {
     "name": "stdout",
     "output_type": "stream",
     "text": [
      "Class Weights (NumPy): [0.14335682 0.35709336 0.49954982]\n",
      "Class Pixel Counts: {np.uint8(0): np.int64(5697986560), np.uint8(2): np.int64(469245952), np.uint8(1): np.int64(918321152)}\n"
     ]
    }
   ],
   "source": [
    "class_weights = compute_pixel_class_weights(train_df, val_df, label_dir=\"/workspace/data/masked_data_csiss\")"
   ]
  },
  {
   "cell_type": "code",
   "execution_count": 27,
   "metadata": {},
   "outputs": [
    {
     "name": "stdout",
     "output_type": "stream",
     "text": [
      "Class Frequencies: {0: np.float64(0.8039944132770361), 1: np.float64(0.12957091200273807), 2: np.float64(0.06643467472022578)}\n",
      "Class Weights (Unnormalized): {0: np.float64(1.2437897371998594), 1: np.float64(7.717781595755598), 2: np.float64(15.052380465641896)}\n",
      "Normalized Class Weights: {0: np.float64(0.051794462970168396), 1: np.float64(0.3213874026434246), 2: np.float64(0.626818134386407)}\n"
     ]
    }
   ],
   "source": [
    "import numpy as np\n",
    "\n",
    "# Pixel counts for each class\n",
    "pixel_counts = {\n",
    "    0: np.int64(5698237440),  # Background\n",
    "    1: np.int64(918322080),   # Maize\n",
    "    2: np.int64(470849728)    # Soybean\n",
    "}\n",
    "\n",
    "# Compute total pixel count\n",
    "total_pixels = sum(pixel_counts.values())\n",
    "\n",
    "# Compute class frequencies\n",
    "class_frequencies = {cls: count / total_pixels for cls, count in pixel_counts.items()}\n",
    "\n",
    "# Compute class weights (inverse frequency)\n",
    "class_weights = {cls: 1 / freq for cls, freq in class_frequencies.items()}\n",
    "\n",
    "# Normalize weights to sum to 1\n",
    "total_weight_sum = sum(class_weights.values())\n",
    "normalized_weights = {cls: weight / total_weight_sum for cls, weight in class_weights.items()}\n",
    "\n",
    "# Display weights\n",
    "print(\"Class Frequencies:\", class_frequencies)\n",
    "print(\"Class Weights (Unnormalized):\", class_weights)\n",
    "print(\"Normalized Class Weights:\", normalized_weights)\n"
   ]
  },
  {
   "cell_type": "code",
   "execution_count": 23,
   "metadata": {},
   "outputs": [],
   "source": [
    "def inspect_mask(mask_path):\n",
    "    \"\"\"Print unique values in the mask to identify any unexpected labels.\"\"\"\n",
    "    mask = np.array(Image.open(mask_path))\n",
    "    unique_values = np.unique(mask)\n",
    "    print(f\"Unique values in {mask_path}: {unique_values}\")"
   ]
  },
  {
   "cell_type": "code",
   "execution_count": 24,
   "metadata": {},
   "outputs": [
    {
     "name": "stdout",
     "output_type": "stream",
     "text": [
      "Unique values in /workspace/data/masked_data_csiss/training/masks/IMG_2023_339_mask_chip_0006.png: [0 1]\n",
      "Unique values in /workspace/data/masked_data_csiss/training/masks/IMG_2022_072_mask_chip_0032.png: [0 2]\n",
      "Unique values in /workspace/data/masked_data_csiss/training/masks/IMG_2022_086_mask_chip_0006.png: [1]\n",
      "Unique values in /workspace/data/masked_data_csiss/training/masks/IMG_2022_200_mask_chip_0001.png: [0 1]\n",
      "Unique values in /workspace/data/masked_data_csiss/training/masks/IMG_2022_141_mask_chip_0011.png: [0 1]\n",
      "Unique values in /workspace/data/masked_data_csiss/training/masks/IMG_2023_356_mask_chip_0000.png: [0 1]\n",
      "Unique values in /workspace/data/masked_data_csiss/training/masks/IMG_2022_012_mask_chip_0011.png: [0 1]\n",
      "Unique values in /workspace/data/masked_data_csiss/training/masks/IMG_2022_321_mask_chip_0016.png: [0 2]\n",
      "Unique values in /workspace/data/masked_data_csiss/training/masks/IMG_2022_070_mask_chip_0014.png: [1]\n",
      "Unique values in /workspace/data/masked_data_csiss/training/masks/IMG_2022_126_mask_chip_0012.png: [0 2]\n",
      "Unique values in /workspace/data/masked_data_csiss/training/masks/IMG_2022_111_mask_chip_0007.png: [1]\n",
      "Unique values in /workspace/data/masked_data_csiss/training/masks/IMG_2023_160_mask_chip_0008.png: [0 1]\n",
      "Unique values in /workspace/data/masked_data_csiss/training/masks/IMG_2023_050_mask_chip_0008.png: [0 1]\n",
      "Unique values in /workspace/data/masked_data_csiss/training/masks/IMG_2022_208_mask_chip_0006.png: [1]\n",
      "Unique values in /workspace/data/masked_data_csiss/training/masks/IMG_2022_055_mask_chip_0008.png: [2]\n",
      "Unique values in /workspace/data/masked_data_csiss/training/masks/IMG_2023_205_mask_chip_0004.png: [0 1]\n",
      "Unique values in /workspace/data/masked_data_csiss/training/masks/IMG_2022_369_mask_chip_0001.png: [0 1]\n",
      "Unique values in /workspace/data/masked_data_csiss/training/masks/IMG_2022_251_mask_chip_0001.png: [0 2]\n",
      "Unique values in /workspace/data/masked_data_csiss/training/masks/IMG_2022_041_mask_chip_0007.png: [0 1]\n",
      "Unique values in /workspace/data/masked_data_csiss/training/masks/IMG_2022_258_mask_chip_0001.png: [0 1]\n"
     ]
    }
   ],
   "source": [
    "for mask_path in train_df['lbl_chip_path'].sample(20):\n",
    "    mask_path = os.path.join(\"/workspace/data/masked_data_csiss/training\", mask_path)  # Check 10 random mask files\n",
    "    inspect_mask(mask_path)"
   ]
  },
  {
   "cell_type": "code",
   "execution_count": 1,
   "metadata": {},
   "outputs": [],
   "source": [
    "import pandas as pd"
   ]
  },
  {
   "cell_type": "code",
   "execution_count": 2,
   "metadata": {},
   "outputs": [],
   "source": [
    "train_df = pd.read_csv(\"/workspace/data/masked_data_csiss/training/train_chipping_csv_w_anc.csv\", index_col=0)\n",
    "val_df = pd.read_csv(\"/workspace/data/masked_data_csiss/validation/validation_chipping_csv_w_anc.csv\", index_col=0)"
   ]
  },
  {
   "cell_type": "code",
   "execution_count": null,
   "metadata": {},
   "outputs": [],
   "source": [
    "train_df"
   ]
  }
 ],
 "metadata": {
  "kernelspec": {
   "display_name": "myenv",
   "language": "python",
   "name": "python3"
  },
  "language_info": {
   "codemirror_mode": {
    "name": "ipython",
    "version": 3
   },
   "file_extension": ".py",
   "mimetype": "text/x-python",
   "name": "python",
   "nbconvert_exporter": "python",
   "pygments_lexer": "ipython3",
   "version": "3.10.15"
  }
 },
 "nbformat": 4,
 "nbformat_minor": 2
}
