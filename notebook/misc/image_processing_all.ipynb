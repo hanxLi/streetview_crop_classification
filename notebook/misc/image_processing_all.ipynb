{
 "cells": [
  {
   "cell_type": "markdown",
   "metadata": {},
   "source": [
    "### Imports"
   ]
  },
  {
   "cell_type": "code",
   "execution_count": 1,
   "metadata": {},
   "outputs": [],
   "source": [
    "import os\n",
    "import numpy as np\n",
    "import geopandas as gpd\n",
    "import pandas as pd\n",
    "import shutil\n",
    "import cv2\n",
    "import matplotlib.pyplot as plt\n",
    "\n",
    "from PIL import Image\n",
    "from sklearn.model_selection import train_test_split\n",
    "from tqdm.notebook import tqdm\n"
   ]
  },
  {
   "cell_type": "markdown",
   "metadata": {},
   "source": [
    "### All SVs"
   ]
  },
  {
   "cell_type": "code",
   "execution_count": 2,
   "metadata": {},
   "outputs": [],
   "source": [
    "all_svs = pd.read_csv(\"/home/hanxli/data/data/all_label_images_filtered_reclasses.csv\")"
   ]
  },
  {
   "cell_type": "code",
   "execution_count": 3,
   "metadata": {},
   "outputs": [
    {
     "data": {
      "text/html": [
       "<div>\n",
       "<style scoped>\n",
       "    .dataframe tbody tr th:only-of-type {\n",
       "        vertical-align: middle;\n",
       "    }\n",
       "\n",
       "    .dataframe tbody tr th {\n",
       "        vertical-align: top;\n",
       "    }\n",
       "\n",
       "    .dataframe thead th {\n",
       "        text-align: right;\n",
       "    }\n",
       "</style>\n",
       "<table border=\"1\" class=\"dataframe\">\n",
       "  <thead>\n",
       "    <tr style=\"text-align: right;\">\n",
       "      <th></th>\n",
       "      <th>img_name</th>\n",
       "      <th>timestamp</th>\n",
       "      <th>crop_type</th>\n",
       "      <th>save_path</th>\n",
       "      <th>geometry</th>\n",
       "    </tr>\n",
       "  </thead>\n",
       "  <tbody>\n",
       "    <tr>\n",
       "      <th>0</th>\n",
       "      <td>IMG_2022_001.jpg</td>\n",
       "      <td>2022-08-09 13:54:08</td>\n",
       "      <td>Maize</td>\n",
       "      <td>/home/hanxli/data/data/all_sv_imgs/IMG_2022_00...</td>\n",
       "      <td>POINT (-134842.93178947328 1983715.3378369794)</td>\n",
       "    </tr>\n",
       "    <tr>\n",
       "      <th>1</th>\n",
       "      <td>IMG_2022_003.jpg</td>\n",
       "      <td>2022-08-09 13:54:20</td>\n",
       "      <td>Soybean</td>\n",
       "      <td>/home/hanxli/data/data/all_sv_imgs/IMG_2022_00...</td>\n",
       "      <td>POINT (-134401.7644465734 1983428.4774710557)</td>\n",
       "    </tr>\n",
       "    <tr>\n",
       "      <th>2</th>\n",
       "      <td>IMG_2022_004.jpg</td>\n",
       "      <td>2022-08-09 14:48:06</td>\n",
       "      <td>Soybean</td>\n",
       "      <td>/home/hanxli/data/data/all_sv_imgs/IMG_2022_00...</td>\n",
       "      <td>POINT (-134291.47027611607 1983356.61060757)</td>\n",
       "    </tr>\n",
       "    <tr>\n",
       "      <th>3</th>\n",
       "      <td>IMG_2022_006.jpg</td>\n",
       "      <td>2022-08-09 14:48:09</td>\n",
       "      <td>Soybean</td>\n",
       "      <td>/home/hanxli/data/data/all_sv_imgs/IMG_2022_00...</td>\n",
       "      <td>POINT (-133973.18187298582 1983151.1873832878)</td>\n",
       "    </tr>\n",
       "    <tr>\n",
       "      <th>4</th>\n",
       "      <td>IMG_2022_007.jpg</td>\n",
       "      <td>2022-08-09 13:55:58</td>\n",
       "      <td>Maize</td>\n",
       "      <td>/home/hanxli/data/data/all_sv_imgs/IMG_2022_00...</td>\n",
       "      <td>POINT (-133639.8767866358 1981696.371061486)</td>\n",
       "    </tr>\n",
       "    <tr>\n",
       "      <th>...</th>\n",
       "      <td>...</td>\n",
       "      <td>...</td>\n",
       "      <td>...</td>\n",
       "      <td>...</td>\n",
       "      <td>...</td>\n",
       "    </tr>\n",
       "    <tr>\n",
       "      <th>5450</th>\n",
       "      <td>IMG_2021_4570.jpg</td>\n",
       "      <td>2021-07-15 12:00:00</td>\n",
       "      <td>Wheat</td>\n",
       "      <td>/home/hanxli/data/data/all_sv_imgs/IMG_2021_45...</td>\n",
       "      <td>POINT (5332304.897539199 6413964.014993543)</td>\n",
       "    </tr>\n",
       "    <tr>\n",
       "      <th>5451</th>\n",
       "      <td>IMG_2021_4571.jpg</td>\n",
       "      <td>2021-06-15 12:00:00</td>\n",
       "      <td>Wheat</td>\n",
       "      <td>/home/hanxli/data/data/all_sv_imgs/IMG_2021_45...</td>\n",
       "      <td>POINT (5562716.99987056 6361439.702001621)</td>\n",
       "    </tr>\n",
       "    <tr>\n",
       "      <th>5452</th>\n",
       "      <td>IMG_2021_4572.jpg</td>\n",
       "      <td>2021-08-15 12:00:00</td>\n",
       "      <td>Wheat</td>\n",
       "      <td>/home/hanxli/data/data/all_sv_imgs/IMG_2021_45...</td>\n",
       "      <td>POINT (5487568.872962037 6375263.467579143)</td>\n",
       "    </tr>\n",
       "    <tr>\n",
       "      <th>5453</th>\n",
       "      <td>IMG_2021_4573.jpg</td>\n",
       "      <td>2021-05-15 12:00:00</td>\n",
       "      <td>Wheat</td>\n",
       "      <td>/home/hanxli/data/data/all_sv_imgs/IMG_2021_45...</td>\n",
       "      <td>POINT (5404693.707021068 6403138.154097698)</td>\n",
       "    </tr>\n",
       "    <tr>\n",
       "      <th>5454</th>\n",
       "      <td>IMG_2021_4574.jpg</td>\n",
       "      <td>2021-06-15 12:00:00</td>\n",
       "      <td>Wheat</td>\n",
       "      <td>/home/hanxli/data/data/all_sv_imgs/IMG_2021_45...</td>\n",
       "      <td>POINT (6237871.133311866 6545398.109650489)</td>\n",
       "    </tr>\n",
       "  </tbody>\n",
       "</table>\n",
       "<p>5455 rows × 5 columns</p>\n",
       "</div>"
      ],
      "text/plain": [
       "               img_name            timestamp crop_type  \\\n",
       "0      IMG_2022_001.jpg  2022-08-09 13:54:08     Maize   \n",
       "1      IMG_2022_003.jpg  2022-08-09 13:54:20   Soybean   \n",
       "2      IMG_2022_004.jpg  2022-08-09 14:48:06   Soybean   \n",
       "3      IMG_2022_006.jpg  2022-08-09 14:48:09   Soybean   \n",
       "4      IMG_2022_007.jpg  2022-08-09 13:55:58     Maize   \n",
       "...                 ...                  ...       ...   \n",
       "5450  IMG_2021_4570.jpg  2021-07-15 12:00:00     Wheat   \n",
       "5451  IMG_2021_4571.jpg  2021-06-15 12:00:00     Wheat   \n",
       "5452  IMG_2021_4572.jpg  2021-08-15 12:00:00     Wheat   \n",
       "5453  IMG_2021_4573.jpg  2021-05-15 12:00:00     Wheat   \n",
       "5454  IMG_2021_4574.jpg  2021-06-15 12:00:00     Wheat   \n",
       "\n",
       "                                              save_path  \\\n",
       "0     /home/hanxli/data/data/all_sv_imgs/IMG_2022_00...   \n",
       "1     /home/hanxli/data/data/all_sv_imgs/IMG_2022_00...   \n",
       "2     /home/hanxli/data/data/all_sv_imgs/IMG_2022_00...   \n",
       "3     /home/hanxli/data/data/all_sv_imgs/IMG_2022_00...   \n",
       "4     /home/hanxli/data/data/all_sv_imgs/IMG_2022_00...   \n",
       "...                                                 ...   \n",
       "5450  /home/hanxli/data/data/all_sv_imgs/IMG_2021_45...   \n",
       "5451  /home/hanxli/data/data/all_sv_imgs/IMG_2021_45...   \n",
       "5452  /home/hanxli/data/data/all_sv_imgs/IMG_2021_45...   \n",
       "5453  /home/hanxli/data/data/all_sv_imgs/IMG_2021_45...   \n",
       "5454  /home/hanxli/data/data/all_sv_imgs/IMG_2021_45...   \n",
       "\n",
       "                                            geometry  \n",
       "0     POINT (-134842.93178947328 1983715.3378369794)  \n",
       "1      POINT (-134401.7644465734 1983428.4774710557)  \n",
       "2       POINT (-134291.47027611607 1983356.61060757)  \n",
       "3     POINT (-133973.18187298582 1983151.1873832878)  \n",
       "4       POINT (-133639.8767866358 1981696.371061486)  \n",
       "...                                              ...  \n",
       "5450     POINT (5332304.897539199 6413964.014993543)  \n",
       "5451      POINT (5562716.99987056 6361439.702001621)  \n",
       "5452     POINT (5487568.872962037 6375263.467579143)  \n",
       "5453     POINT (5404693.707021068 6403138.154097698)  \n",
       "5454     POINT (6237871.133311866 6545398.109650489)  \n",
       "\n",
       "[5455 rows x 5 columns]"
      ]
     },
     "execution_count": 3,
     "metadata": {},
     "output_type": "execute_result"
    }
   ],
   "source": [
    "all_svs"
   ]
  },
  {
   "cell_type": "code",
   "execution_count": 4,
   "metadata": {},
   "outputs": [
    {
     "data": {
      "text/plain": [
       "array(['Maize', 'Other', 'Rice', 'Soybean', 'Sugarcane', 'Wheat'],\n",
       "      dtype=object)"
      ]
     },
     "execution_count": 4,
     "metadata": {},
     "output_type": "execute_result"
    }
   ],
   "source": [
    "np.unique(all_svs.crop_type)"
   ]
  },
  {
   "cell_type": "markdown",
   "metadata": {},
   "source": [
    "### Split DF into Train Test"
   ]
  },
  {
   "cell_type": "code",
   "execution_count": 5,
   "metadata": {},
   "outputs": [],
   "source": [
    "train_df, test_df = train_test_split(all_svs, test_size=0.2, random_state=42)"
   ]
  },
  {
   "cell_type": "code",
   "execution_count": 6,
   "metadata": {},
   "outputs": [],
   "source": [
    "train_df = train_df.reset_index(drop=True)\n",
    "test_df = test_df.reset_index(drop=True)"
   ]
  },
  {
   "cell_type": "code",
   "execution_count": 7,
   "metadata": {},
   "outputs": [
    {
     "data": {
      "text/html": [
       "<div>\n",
       "<style scoped>\n",
       "    .dataframe tbody tr th:only-of-type {\n",
       "        vertical-align: middle;\n",
       "    }\n",
       "\n",
       "    .dataframe tbody tr th {\n",
       "        vertical-align: top;\n",
       "    }\n",
       "\n",
       "    .dataframe thead th {\n",
       "        text-align: right;\n",
       "    }\n",
       "</style>\n",
       "<table border=\"1\" class=\"dataframe\">\n",
       "  <thead>\n",
       "    <tr style=\"text-align: right;\">\n",
       "      <th></th>\n",
       "      <th>img_name</th>\n",
       "      <th>timestamp</th>\n",
       "      <th>crop_type</th>\n",
       "      <th>save_path</th>\n",
       "      <th>geometry</th>\n",
       "    </tr>\n",
       "  </thead>\n",
       "  <tbody>\n",
       "    <tr>\n",
       "      <th>0</th>\n",
       "      <td>IMG_2021_4166.jpg</td>\n",
       "      <td>2021-07-15 12:00:00</td>\n",
       "      <td>Wheat</td>\n",
       "      <td>/home/hanxli/data/data/all_sv_imgs/IMG_2021_41...</td>\n",
       "      <td>POINT (6376787.3276050575 11335984.784758545)</td>\n",
       "    </tr>\n",
       "    <tr>\n",
       "      <th>1</th>\n",
       "      <td>IMG_2021_0161.jpg</td>\n",
       "      <td>2021-06-15 12:00:00</td>\n",
       "      <td>Wheat</td>\n",
       "      <td>/home/hanxli/data/data/all_sv_imgs/IMG_2021_01...</td>\n",
       "      <td>POINT (6234318.203501569 7097049.4345168695)</td>\n",
       "    </tr>\n",
       "    <tr>\n",
       "      <th>2</th>\n",
       "      <td>IMG_2021_2824.jpg</td>\n",
       "      <td>2021-03-15 12:00:00</td>\n",
       "      <td>Rice</td>\n",
       "      <td>/home/hanxli/data/data/all_sv_imgs/IMG_2021_28...</td>\n",
       "      <td>POINT (-12503792.870588327 9344924.511169052)</td>\n",
       "    </tr>\n",
       "    <tr>\n",
       "      <th>3</th>\n",
       "      <td>IMG_2021_1591.jpg</td>\n",
       "      <td>2021-12-15 12:00:00</td>\n",
       "      <td>Sugarcane</td>\n",
       "      <td>/home/hanxli/data/data/all_sv_imgs/IMG_2021_15...</td>\n",
       "      <td>POINT (6463140.123798289 -2701816.1300258557)</td>\n",
       "    </tr>\n",
       "    <tr>\n",
       "      <th>4</th>\n",
       "      <td>IMG_2021_1712.jpg</td>\n",
       "      <td>2021-12-15 12:00:00</td>\n",
       "      <td>Sugarcane</td>\n",
       "      <td>/home/hanxli/data/data/all_sv_imgs/IMG_2021_17...</td>\n",
       "      <td>POINT (6665902.514492665 -2671492.593743851)</td>\n",
       "    </tr>\n",
       "  </tbody>\n",
       "</table>\n",
       "</div>"
      ],
      "text/plain": [
       "            img_name            timestamp  crop_type  \\\n",
       "0  IMG_2021_4166.jpg  2021-07-15 12:00:00      Wheat   \n",
       "1  IMG_2021_0161.jpg  2021-06-15 12:00:00      Wheat   \n",
       "2  IMG_2021_2824.jpg  2021-03-15 12:00:00       Rice   \n",
       "3  IMG_2021_1591.jpg  2021-12-15 12:00:00  Sugarcane   \n",
       "4  IMG_2021_1712.jpg  2021-12-15 12:00:00  Sugarcane   \n",
       "\n",
       "                                           save_path  \\\n",
       "0  /home/hanxli/data/data/all_sv_imgs/IMG_2021_41...   \n",
       "1  /home/hanxli/data/data/all_sv_imgs/IMG_2021_01...   \n",
       "2  /home/hanxli/data/data/all_sv_imgs/IMG_2021_28...   \n",
       "3  /home/hanxli/data/data/all_sv_imgs/IMG_2021_15...   \n",
       "4  /home/hanxli/data/data/all_sv_imgs/IMG_2021_17...   \n",
       "\n",
       "                                        geometry  \n",
       "0  POINT (6376787.3276050575 11335984.784758545)  \n",
       "1   POINT (6234318.203501569 7097049.4345168695)  \n",
       "2  POINT (-12503792.870588327 9344924.511169052)  \n",
       "3  POINT (6463140.123798289 -2701816.1300258557)  \n",
       "4   POINT (6665902.514492665 -2671492.593743851)  "
      ]
     },
     "execution_count": 7,
     "metadata": {},
     "output_type": "execute_result"
    }
   ],
   "source": [
    "train_df.head()"
   ]
  },
  {
   "cell_type": "markdown",
   "metadata": {},
   "source": [
    "### Split and save images"
   ]
  },
  {
   "cell_type": "code",
   "execution_count": 8,
   "metadata": {},
   "outputs": [],
   "source": [
    "def split_and_save(df, path, targets=None):\n",
    "    temp_dict = []\n",
    "\n",
    "    for i in tqdm(range(len(df))):\n",
    "        if targets:\n",
    "            if df.loc[i, \"crop_type\"] in targets:\n",
    "                ori_path = df.loc[i, \"save_path\"]\n",
    "                name = df.loc[i, \"img_name\"].split(\".\")\n",
    "                if len(df.loc[i, \"img_name\"].split(\"_\")[2]) != 8:\n",
    "                    new_names = [f\"{name[0]}_0.{name[1]}\", f\"{name[0]}_1.{name[1]}\"]\n",
    "                    img = cv2.imread(ori_path)\n",
    "                    sub_img_0 = cv2.resize(img[500:2500, 16:2016], (224, 224), interpolation= cv2.INTER_LINEAR)\n",
    "                    img_0_path = os.path.join(path, new_names[0])\n",
    "                    sub_img_1 = cv2.resize(img[500:2500, 2016:4016], (224, 224), interpolation= cv2.INTER_LINEAR)\n",
    "                    img_1_path = os.path.join(path, new_names[1])\n",
    "                    if not os.path.isfile(img_0_path):\n",
    "                        cv2.imwrite(img_0_path, sub_img_0)\n",
    "                    temp_dict.append({\"img_name\":new_names[0], \"crop_type\": df.loc[i, \"crop_type\"], \"save_path\":img_0_path})\n",
    "                    if not os.path.isfile(img_1_path):\n",
    "                        cv2.imwrite(img_1_path, sub_img_1)\n",
    "                    temp_dict.append({\"img_name\":new_names[1], \"crop_type\": df.loc[i, \"crop_type\"], \"save_path\":img_1_path})\n",
    "                else:\n",
    "                    img = cv2.imread(ori_path)\n",
    "                    img = cv2.resize(img[20:620, 20:620], (224, 224), interpolation = cv2.INTER_LINEAR)\n",
    "                    new_path = os.path.join(path, df.loc[i, \"img_name\"])\n",
    "                    cv2.imwrite(new_path, img)\n",
    "                    temp_dict.append({\"img_name\":df.loc[i, \"img_name\"], \"crop_type\": df.loc[i, \"crop_type\"], \"save_path\":new_path})\n",
    "    return pd.DataFrame(temp_dict)\n",
    "\n"
   ]
  },
  {
   "cell_type": "code",
   "execution_count": 9,
   "metadata": {},
   "outputs": [
    {
     "name": "stderr",
     "output_type": "stream",
     "text": [
      "100%|██████████| 4364/4364 [09:43<00:00,  7.49it/s]\n"
     ]
    }
   ],
   "source": [
    "train_data = split_and_save(train_df, \"/home/hanxli/data/data/all_training_svs_3class\", [\"Maize\", \"Soybean\"])"
   ]
  },
  {
   "cell_type": "code",
   "execution_count": 25,
   "metadata": {},
   "outputs": [],
   "source": [
    "others_list_train = []\n",
    "for i in range(len(train_df)):\n",
    "    if train_df.loc[i, \"img_name\"].split(\"_\")[1] != \"2021\":\n",
    "        others_list_train.append(train_df.loc[i])\n",
    "temp = pd.DataFrame(others_list_train)\n",
    "temp = temp.reset_index(drop=True)\n",
    "temp"
   ]
  },
  {
   "cell_type": "code",
   "execution_count": 28,
   "metadata": {},
   "outputs": [
    {
     "name": "stderr",
     "output_type": "stream",
     "text": [
      "100%|██████████| 690/690 [00:45<00:00, 15.03it/s]\n"
     ]
    }
   ],
   "source": [
    "train_data_other = split_and_save(temp, \"/home/hanxli/data/data/all_training_svs_3class\", [\"Other\"])"
   ]
  },
  {
   "cell_type": "code",
   "execution_count": 10,
   "metadata": {},
   "outputs": [
    {
     "name": "stderr",
     "output_type": "stream",
     "text": [
      "100%|██████████| 1091/1091 [01:48<00:00, 10.09it/s]\n"
     ]
    }
   ],
   "source": [
    "test_data = split_and_save(test_df,  \"/home/hanxli/data/data/all_validation_svs_3class\", [\"Maize\", \"Soybean\"])"
   ]
  },
  {
   "cell_type": "code",
   "execution_count": 29,
   "metadata": {},
   "outputs": [
    {
     "data": {
      "text/html": [
       "<div>\n",
       "<style scoped>\n",
       "    .dataframe tbody tr th:only-of-type {\n",
       "        vertical-align: middle;\n",
       "    }\n",
       "\n",
       "    .dataframe tbody tr th {\n",
       "        vertical-align: top;\n",
       "    }\n",
       "\n",
       "    .dataframe thead th {\n",
       "        text-align: right;\n",
       "    }\n",
       "</style>\n",
       "<table border=\"1\" class=\"dataframe\">\n",
       "  <thead>\n",
       "    <tr style=\"text-align: right;\">\n",
       "      <th></th>\n",
       "      <th>img_name</th>\n",
       "      <th>timestamp</th>\n",
       "      <th>crop_type</th>\n",
       "      <th>save_path</th>\n",
       "      <th>geometry</th>\n",
       "    </tr>\n",
       "  </thead>\n",
       "  <tbody>\n",
       "    <tr>\n",
       "      <th>0</th>\n",
       "      <td>IMG_2022_040.jpg</td>\n",
       "      <td>2022-08-09 14:11:25</td>\n",
       "      <td>Soybean</td>\n",
       "      <td>/home/hanxli/data/data/all_sv_imgs/IMG_2022_04...</td>\n",
       "      <td>POINT (-133831.2733225635 1960338.8705609846)</td>\n",
       "    </tr>\n",
       "    <tr>\n",
       "      <th>1</th>\n",
       "      <td>IMG_2023_341.jpg</td>\n",
       "      <td>2023-10-14 13:59:57</td>\n",
       "      <td>Maize</td>\n",
       "      <td>/home/hanxli/data/data/all_sv_imgs/IMG_2023_34...</td>\n",
       "      <td>POINT (-220269.46475629517 1980816.6111933617)</td>\n",
       "    </tr>\n",
       "    <tr>\n",
       "      <th>2</th>\n",
       "      <td>IMG_2022_370.jpg</td>\n",
       "      <td>2022-08-11 11:51:34</td>\n",
       "      <td>Soybean</td>\n",
       "      <td>/home/hanxli/data/data/all_sv_imgs/IMG_2022_37...</td>\n",
       "      <td>POINT (107285.75182342107 2028681.952088454)</td>\n",
       "    </tr>\n",
       "    <tr>\n",
       "      <th>3</th>\n",
       "      <td>IMG_2022_090.jpg</td>\n",
       "      <td>2022-08-09 14:32:11</td>\n",
       "      <td>Maize</td>\n",
       "      <td>/home/hanxli/data/data/all_sv_imgs/IMG_2022_09...</td>\n",
       "      <td>POINT (-100664.31790229683 1960951.0882553912)</td>\n",
       "    </tr>\n",
       "    <tr>\n",
       "      <th>4</th>\n",
       "      <td>IMG_2022_095.jpg</td>\n",
       "      <td>2022-08-09 14:33:49</td>\n",
       "      <td>Maize</td>\n",
       "      <td>/home/hanxli/data/data/all_sv_imgs/IMG_2022_09...</td>\n",
       "      <td>POINT (-97662.59129751813 1960883.5502282898)</td>\n",
       "    </tr>\n",
       "    <tr>\n",
       "      <th>...</th>\n",
       "      <td>...</td>\n",
       "      <td>...</td>\n",
       "      <td>...</td>\n",
       "      <td>...</td>\n",
       "      <td>...</td>\n",
       "    </tr>\n",
       "    <tr>\n",
       "      <th>186</th>\n",
       "      <td>IMG_2022_252.jpg</td>\n",
       "      <td>2022-08-10 17:11:30</td>\n",
       "      <td>Soybean</td>\n",
       "      <td>/home/hanxli/data/data/all_sv_imgs/IMG_2022_25...</td>\n",
       "      <td>POINT (-12237.806248692945 2052666.6422927864)</td>\n",
       "    </tr>\n",
       "    <tr>\n",
       "      <th>187</th>\n",
       "      <td>IMG_2023_268.jpg</td>\n",
       "      <td>2023-10-14 11:09:16</td>\n",
       "      <td>Soybean</td>\n",
       "      <td>/home/hanxli/data/data/all_sv_imgs/IMG_2023_26...</td>\n",
       "      <td>POINT (-87996.6058183408 2022593.7300886838)</td>\n",
       "    </tr>\n",
       "    <tr>\n",
       "      <th>188</th>\n",
       "      <td>IMG_2023_116.jpg</td>\n",
       "      <td>2023-10-13 17:38:27</td>\n",
       "      <td>Maize</td>\n",
       "      <td>/home/hanxli/data/data/all_sv_imgs/IMG_2023_11...</td>\n",
       "      <td>POINT (-61680.12191833712 2098907.7759661837)</td>\n",
       "    </tr>\n",
       "    <tr>\n",
       "      <th>189</th>\n",
       "      <td>IMG_2023_026.jpg</td>\n",
       "      <td>2023-10-13 16:49:21</td>\n",
       "      <td>Maize</td>\n",
       "      <td>/home/hanxli/data/data/all_sv_imgs/IMG_2023_02...</td>\n",
       "      <td>POINT (-83286.55927370524 2153178.3030824326)</td>\n",
       "    </tr>\n",
       "    <tr>\n",
       "      <th>190</th>\n",
       "      <td>IMG_2023_427.jpg</td>\n",
       "      <td>2023-10-15 11:27:15</td>\n",
       "      <td>Other</td>\n",
       "      <td>/home/hanxli/data/data/all_sv_imgs/IMG_2023_42...</td>\n",
       "      <td>POINT (-14722.625244190494 1919631.8656072812)</td>\n",
       "    </tr>\n",
       "  </tbody>\n",
       "</table>\n",
       "<p>191 rows × 5 columns</p>\n",
       "</div>"
      ],
      "text/plain": [
       "             img_name            timestamp crop_type  \\\n",
       "0    IMG_2022_040.jpg  2022-08-09 14:11:25   Soybean   \n",
       "1    IMG_2023_341.jpg  2023-10-14 13:59:57     Maize   \n",
       "2    IMG_2022_370.jpg  2022-08-11 11:51:34   Soybean   \n",
       "3    IMG_2022_090.jpg  2022-08-09 14:32:11     Maize   \n",
       "4    IMG_2022_095.jpg  2022-08-09 14:33:49     Maize   \n",
       "..                ...                  ...       ...   \n",
       "186  IMG_2022_252.jpg  2022-08-10 17:11:30   Soybean   \n",
       "187  IMG_2023_268.jpg  2023-10-14 11:09:16   Soybean   \n",
       "188  IMG_2023_116.jpg  2023-10-13 17:38:27     Maize   \n",
       "189  IMG_2023_026.jpg  2023-10-13 16:49:21     Maize   \n",
       "190  IMG_2023_427.jpg  2023-10-15 11:27:15     Other   \n",
       "\n",
       "                                             save_path  \\\n",
       "0    /home/hanxli/data/data/all_sv_imgs/IMG_2022_04...   \n",
       "1    /home/hanxli/data/data/all_sv_imgs/IMG_2023_34...   \n",
       "2    /home/hanxli/data/data/all_sv_imgs/IMG_2022_37...   \n",
       "3    /home/hanxli/data/data/all_sv_imgs/IMG_2022_09...   \n",
       "4    /home/hanxli/data/data/all_sv_imgs/IMG_2022_09...   \n",
       "..                                                 ...   \n",
       "186  /home/hanxli/data/data/all_sv_imgs/IMG_2022_25...   \n",
       "187  /home/hanxli/data/data/all_sv_imgs/IMG_2023_26...   \n",
       "188  /home/hanxli/data/data/all_sv_imgs/IMG_2023_11...   \n",
       "189  /home/hanxli/data/data/all_sv_imgs/IMG_2023_02...   \n",
       "190  /home/hanxli/data/data/all_sv_imgs/IMG_2023_42...   \n",
       "\n",
       "                                           geometry  \n",
       "0     POINT (-133831.2733225635 1960338.8705609846)  \n",
       "1    POINT (-220269.46475629517 1980816.6111933617)  \n",
       "2      POINT (107285.75182342107 2028681.952088454)  \n",
       "3    POINT (-100664.31790229683 1960951.0882553912)  \n",
       "4     POINT (-97662.59129751813 1960883.5502282898)  \n",
       "..                                              ...  \n",
       "186  POINT (-12237.806248692945 2052666.6422927864)  \n",
       "187    POINT (-87996.6058183408 2022593.7300886838)  \n",
       "188   POINT (-61680.12191833712 2098907.7759661837)  \n",
       "189   POINT (-83286.55927370524 2153178.3030824326)  \n",
       "190  POINT (-14722.625244190494 1919631.8656072812)  \n",
       "\n",
       "[191 rows x 5 columns]"
      ]
     },
     "execution_count": 29,
     "metadata": {},
     "output_type": "execute_result"
    }
   ],
   "source": [
    "others_list_val = []\n",
    "for i in range(len(test_df)):\n",
    "    if test_df.loc[i, \"img_name\"].split(\"_\")[1] != \"2021\":\n",
    "        others_list_val.append(test_df.loc[i])\n",
    "temp = pd.DataFrame(others_list_val)\n",
    "temp = temp.reset_index(drop=True)\n",
    "temp"
   ]
  },
  {
   "cell_type": "code",
   "execution_count": 30,
   "metadata": {},
   "outputs": [
    {
     "name": "stderr",
     "output_type": "stream",
     "text": [
      "100%|██████████| 191/191 [00:16<00:00, 11.25it/s]\n"
     ]
    }
   ],
   "source": [
    "val_data_other = split_and_save(temp, \"/home/hanxli/data/data/all_validation_svs_3class\", [\"Other\"])"
   ]
  },
  {
   "cell_type": "code",
   "execution_count": 31,
   "metadata": {},
   "outputs": [
    {
     "data": {
      "text/html": [
       "<div>\n",
       "<style scoped>\n",
       "    .dataframe tbody tr th:only-of-type {\n",
       "        vertical-align: middle;\n",
       "    }\n",
       "\n",
       "    .dataframe tbody tr th {\n",
       "        vertical-align: top;\n",
       "    }\n",
       "\n",
       "    .dataframe thead th {\n",
       "        text-align: right;\n",
       "    }\n",
       "</style>\n",
       "<table border=\"1\" class=\"dataframe\">\n",
       "  <thead>\n",
       "    <tr style=\"text-align: right;\">\n",
       "      <th></th>\n",
       "      <th>img_name</th>\n",
       "      <th>crop_type</th>\n",
       "      <th>save_path</th>\n",
       "    </tr>\n",
       "  </thead>\n",
       "  <tbody>\n",
       "    <tr>\n",
       "      <th>0</th>\n",
       "      <td>IMG_2021_3404.jpg</td>\n",
       "      <td>Maize</td>\n",
       "      <td>/home/hanxli/data/data/all_training_svs_3class...</td>\n",
       "    </tr>\n",
       "    <tr>\n",
       "      <th>1</th>\n",
       "      <td>IMG_2023_231_0.jpg</td>\n",
       "      <td>Soybean</td>\n",
       "      <td>/home/hanxli/data/data/all_training_svs_3class...</td>\n",
       "    </tr>\n",
       "    <tr>\n",
       "      <th>2</th>\n",
       "      <td>IMG_2023_231_1.jpg</td>\n",
       "      <td>Soybean</td>\n",
       "      <td>/home/hanxli/data/data/all_training_svs_3class...</td>\n",
       "    </tr>\n",
       "    <tr>\n",
       "      <th>3</th>\n",
       "      <td>IMG_2023_299_0.jpg</td>\n",
       "      <td>Soybean</td>\n",
       "      <td>/home/hanxli/data/data/all_training_svs_3class...</td>\n",
       "    </tr>\n",
       "    <tr>\n",
       "      <th>4</th>\n",
       "      <td>IMG_2023_299_1.jpg</td>\n",
       "      <td>Soybean</td>\n",
       "      <td>/home/hanxli/data/data/all_training_svs_3class...</td>\n",
       "    </tr>\n",
       "    <tr>\n",
       "      <th>...</th>\n",
       "      <td>...</td>\n",
       "      <td>...</td>\n",
       "      <td>...</td>\n",
       "    </tr>\n",
       "    <tr>\n",
       "      <th>2445</th>\n",
       "      <td>IMG_2023_120_1.jpg</td>\n",
       "      <td>Other</td>\n",
       "      <td>/home/hanxli/data/data/all_training_svs_3class...</td>\n",
       "    </tr>\n",
       "    <tr>\n",
       "      <th>2446</th>\n",
       "      <td>IMG_2023_555_0.jpg</td>\n",
       "      <td>Other</td>\n",
       "      <td>/home/hanxli/data/data/all_training_svs_3class...</td>\n",
       "    </tr>\n",
       "    <tr>\n",
       "      <th>2447</th>\n",
       "      <td>IMG_2023_555_1.jpg</td>\n",
       "      <td>Other</td>\n",
       "      <td>/home/hanxli/data/data/all_training_svs_3class...</td>\n",
       "    </tr>\n",
       "    <tr>\n",
       "      <th>2448</th>\n",
       "      <td>IMG_2023_439_0.jpg</td>\n",
       "      <td>Other</td>\n",
       "      <td>/home/hanxli/data/data/all_training_svs_3class...</td>\n",
       "    </tr>\n",
       "    <tr>\n",
       "      <th>2449</th>\n",
       "      <td>IMG_2023_439_1.jpg</td>\n",
       "      <td>Other</td>\n",
       "      <td>/home/hanxli/data/data/all_training_svs_3class...</td>\n",
       "    </tr>\n",
       "  </tbody>\n",
       "</table>\n",
       "<p>2450 rows × 3 columns</p>\n",
       "</div>"
      ],
      "text/plain": [
       "                img_name crop_type  \\\n",
       "0      IMG_2021_3404.jpg     Maize   \n",
       "1     IMG_2023_231_0.jpg   Soybean   \n",
       "2     IMG_2023_231_1.jpg   Soybean   \n",
       "3     IMG_2023_299_0.jpg   Soybean   \n",
       "4     IMG_2023_299_1.jpg   Soybean   \n",
       "...                  ...       ...   \n",
       "2445  IMG_2023_120_1.jpg     Other   \n",
       "2446  IMG_2023_555_0.jpg     Other   \n",
       "2447  IMG_2023_555_1.jpg     Other   \n",
       "2448  IMG_2023_439_0.jpg     Other   \n",
       "2449  IMG_2023_439_1.jpg     Other   \n",
       "\n",
       "                                              save_path  \n",
       "0     /home/hanxli/data/data/all_training_svs_3class...  \n",
       "1     /home/hanxli/data/data/all_training_svs_3class...  \n",
       "2     /home/hanxli/data/data/all_training_svs_3class...  \n",
       "3     /home/hanxli/data/data/all_training_svs_3class...  \n",
       "4     /home/hanxli/data/data/all_training_svs_3class...  \n",
       "...                                                 ...  \n",
       "2445  /home/hanxli/data/data/all_training_svs_3class...  \n",
       "2446  /home/hanxli/data/data/all_training_svs_3class...  \n",
       "2447  /home/hanxli/data/data/all_training_svs_3class...  \n",
       "2448  /home/hanxli/data/data/all_training_svs_3class...  \n",
       "2449  /home/hanxli/data/data/all_training_svs_3class...  \n",
       "\n",
       "[2450 rows x 3 columns]"
      ]
     },
     "execution_count": 31,
     "metadata": {},
     "output_type": "execute_result"
    }
   ],
   "source": [
    "train_data = pd.concat([train_data, train_data_other]).reset_index(drop=True)\n",
    "train_data"
   ]
  },
  {
   "cell_type": "code",
   "execution_count": 32,
   "metadata": {},
   "outputs": [],
   "source": [
    "train_data.to_csv(\"/home/hanxli/data/data/all_training_svs_3class/train_split_esa_csiss.csv\", sep=\",\")"
   ]
  },
  {
   "cell_type": "code",
   "execution_count": 33,
   "metadata": {},
   "outputs": [
    {
     "data": {
      "text/html": [
       "<div>\n",
       "<style scoped>\n",
       "    .dataframe tbody tr th:only-of-type {\n",
       "        vertical-align: middle;\n",
       "    }\n",
       "\n",
       "    .dataframe tbody tr th {\n",
       "        vertical-align: top;\n",
       "    }\n",
       "\n",
       "    .dataframe thead th {\n",
       "        text-align: right;\n",
       "    }\n",
       "</style>\n",
       "<table border=\"1\" class=\"dataframe\">\n",
       "  <thead>\n",
       "    <tr style=\"text-align: right;\">\n",
       "      <th></th>\n",
       "      <th>img_name</th>\n",
       "      <th>crop_type</th>\n",
       "      <th>save_path</th>\n",
       "    </tr>\n",
       "  </thead>\n",
       "  <tbody>\n",
       "    <tr>\n",
       "      <th>0</th>\n",
       "      <td>IMG_2021_4266.jpg</td>\n",
       "      <td>Maize</td>\n",
       "      <td>/home/hanxli/data/data/all_validation_svs_3cla...</td>\n",
       "    </tr>\n",
       "    <tr>\n",
       "      <th>1</th>\n",
       "      <td>IMG_2021_2370.jpg</td>\n",
       "      <td>Soybean</td>\n",
       "      <td>/home/hanxli/data/data/all_validation_svs_3cla...</td>\n",
       "    </tr>\n",
       "    <tr>\n",
       "      <th>2</th>\n",
       "      <td>IMG_2021_0634.jpg</td>\n",
       "      <td>Maize</td>\n",
       "      <td>/home/hanxli/data/data/all_validation_svs_3cla...</td>\n",
       "    </tr>\n",
       "    <tr>\n",
       "      <th>3</th>\n",
       "      <td>IMG_2022_040_0.jpg</td>\n",
       "      <td>Soybean</td>\n",
       "      <td>/home/hanxli/data/data/all_validation_svs_3cla...</td>\n",
       "    </tr>\n",
       "    <tr>\n",
       "      <th>4</th>\n",
       "      <td>IMG_2022_040_1.jpg</td>\n",
       "      <td>Soybean</td>\n",
       "      <td>/home/hanxli/data/data/all_validation_svs_3cla...</td>\n",
       "    </tr>\n",
       "    <tr>\n",
       "      <th>...</th>\n",
       "      <td>...</td>\n",
       "      <td>...</td>\n",
       "      <td>...</td>\n",
       "    </tr>\n",
       "    <tr>\n",
       "      <th>653</th>\n",
       "      <td>IMG_2022_198_1.jpg</td>\n",
       "      <td>Other</td>\n",
       "      <td>/home/hanxli/data/data/all_validation_svs_3cla...</td>\n",
       "    </tr>\n",
       "    <tr>\n",
       "      <th>654</th>\n",
       "      <td>IMG_2023_507_0.jpg</td>\n",
       "      <td>Other</td>\n",
       "      <td>/home/hanxli/data/data/all_validation_svs_3cla...</td>\n",
       "    </tr>\n",
       "    <tr>\n",
       "      <th>655</th>\n",
       "      <td>IMG_2023_507_1.jpg</td>\n",
       "      <td>Other</td>\n",
       "      <td>/home/hanxli/data/data/all_validation_svs_3cla...</td>\n",
       "    </tr>\n",
       "    <tr>\n",
       "      <th>656</th>\n",
       "      <td>IMG_2023_427_0.jpg</td>\n",
       "      <td>Other</td>\n",
       "      <td>/home/hanxli/data/data/all_validation_svs_3cla...</td>\n",
       "    </tr>\n",
       "    <tr>\n",
       "      <th>657</th>\n",
       "      <td>IMG_2023_427_1.jpg</td>\n",
       "      <td>Other</td>\n",
       "      <td>/home/hanxli/data/data/all_validation_svs_3cla...</td>\n",
       "    </tr>\n",
       "  </tbody>\n",
       "</table>\n",
       "<p>658 rows × 3 columns</p>\n",
       "</div>"
      ],
      "text/plain": [
       "               img_name crop_type  \\\n",
       "0     IMG_2021_4266.jpg     Maize   \n",
       "1     IMG_2021_2370.jpg   Soybean   \n",
       "2     IMG_2021_0634.jpg     Maize   \n",
       "3    IMG_2022_040_0.jpg   Soybean   \n",
       "4    IMG_2022_040_1.jpg   Soybean   \n",
       "..                  ...       ...   \n",
       "653  IMG_2022_198_1.jpg     Other   \n",
       "654  IMG_2023_507_0.jpg     Other   \n",
       "655  IMG_2023_507_1.jpg     Other   \n",
       "656  IMG_2023_427_0.jpg     Other   \n",
       "657  IMG_2023_427_1.jpg     Other   \n",
       "\n",
       "                                             save_path  \n",
       "0    /home/hanxli/data/data/all_validation_svs_3cla...  \n",
       "1    /home/hanxli/data/data/all_validation_svs_3cla...  \n",
       "2    /home/hanxli/data/data/all_validation_svs_3cla...  \n",
       "3    /home/hanxli/data/data/all_validation_svs_3cla...  \n",
       "4    /home/hanxli/data/data/all_validation_svs_3cla...  \n",
       "..                                                 ...  \n",
       "653  /home/hanxli/data/data/all_validation_svs_3cla...  \n",
       "654  /home/hanxli/data/data/all_validation_svs_3cla...  \n",
       "655  /home/hanxli/data/data/all_validation_svs_3cla...  \n",
       "656  /home/hanxli/data/data/all_validation_svs_3cla...  \n",
       "657  /home/hanxli/data/data/all_validation_svs_3cla...  \n",
       "\n",
       "[658 rows x 3 columns]"
      ]
     },
     "execution_count": 33,
     "metadata": {},
     "output_type": "execute_result"
    }
   ],
   "source": [
    "test_data = pd.concat([test_data, val_data_other]).reset_index(drop=True)\n",
    "test_data"
   ]
  },
  {
   "cell_type": "code",
   "execution_count": 34,
   "metadata": {},
   "outputs": [],
   "source": [
    "test_data.to_csv(\"/home/hanxli/data/data/all_validation_svs_3class/val_split_esa_csiss.csv\", sep=\",\")\n"
   ]
  },
  {
   "cell_type": "markdown",
   "metadata": {},
   "source": [
    "### Compute Mean and Std of Train and Val dataset"
   ]
  },
  {
   "cell_type": "code",
   "execution_count": 35,
   "metadata": {},
   "outputs": [],
   "source": [
    "import os\n",
    "from PIL import Image\n",
    "from tqdm import tqdm"
   ]
  },
  {
   "cell_type": "code",
   "execution_count": 21,
   "metadata": {},
   "outputs": [],
   "source": [
    "img_data = Image.open(\"/home/hanxli/data/data/csiss_sv_training/IMG_2022_001_0.jpg\")"
   ]
  },
  {
   "cell_type": "code",
   "execution_count": 22,
   "metadata": {},
   "outputs": [
    {
     "data": {
      "text/plain": [
       "array([ 72.50334821, 131.68672274, 110.83753189])"
      ]
     },
     "execution_count": 22,
     "metadata": {},
     "output_type": "execute_result"
    }
   ],
   "source": [
    "np.array(img_data).mean(axis=(0,1))"
   ]
  },
  {
   "cell_type": "code",
   "execution_count": 36,
   "metadata": {},
   "outputs": [],
   "source": [
    "def calc_mean_std(folder_path):\n",
    "\n",
    "    mean = np.zeros(3)\n",
    "    std = np.zeros(3)\n",
    "    img_count = 0\n",
    "\n",
    "\n",
    "    for filename in tqdm(os.listdir(folder_path)):\n",
    "        if filename.endswith(\".jpg\"):\n",
    "            img_path = os.path.join(folder_path, filename)\n",
    "            img_data = np.array(Image.open(img_path).convert(\"RGB\"))\n",
    "            img_array = img_data.astype(np.float32) / 255.0\n",
    "\n",
    "            mean += img_array.mean(axis = (0, 1))\n",
    "            std += img_array.std(axis = (0, 1))\n",
    "            img_count += 1\n",
    "    means = mean / img_count\n",
    "    stds = std / img_count\n",
    "\n",
    "    return means, stds\n"
   ]
  },
  {
   "cell_type": "code",
   "execution_count": 37,
   "metadata": {},
   "outputs": [
    {
     "name": "stderr",
     "output_type": "stream",
     "text": [
      "  0%|          | 0/2451 [00:00<?, ?it/s]"
     ]
    },
    {
     "name": "stderr",
     "output_type": "stream",
     "text": [
      "100%|██████████| 2451/2451 [00:22<00:00, 107.76it/s]\n"
     ]
    }
   ],
   "source": [
    "train_mean, train_stds = calc_mean_std(\"/home/hanxli/data/data/all_training_svs_3class\")"
   ]
  },
  {
   "cell_type": "code",
   "execution_count": 38,
   "metadata": {},
   "outputs": [
    {
     "name": "stdout",
     "output_type": "stream",
     "text": [
      "[0.50614358 0.57798129 0.53686056] [0.1789791  0.20435749 0.27934631]\n"
     ]
    }
   ],
   "source": [
    "print(train_mean, train_stds)"
   ]
  },
  {
   "cell_type": "code",
   "execution_count": 39,
   "metadata": {},
   "outputs": [
    {
     "name": "stderr",
     "output_type": "stream",
     "text": [
      "100%|██████████| 659/659 [00:06<00:00, 103.88it/s]"
     ]
    },
    {
     "name": "stdout",
     "output_type": "stream",
     "text": [
      "[0.49846566 0.57426037 0.53141111] [0.17893861 0.20375895 0.28002261]\n"
     ]
    },
    {
     "name": "stderr",
     "output_type": "stream",
     "text": [
      "\n"
     ]
    }
   ],
   "source": [
    "val_mean, val_stds = calc_mean_std(\"/home/hanxli/data/data/all_validation_svs_3class\")\n",
    "print(val_mean, val_stds)"
   ]
  }
 ],
 "metadata": {
  "kernelspec": {
   "display_name": "Python 3",
   "language": "python",
   "name": "python3"
  },
  "language_info": {
   "codemirror_mode": {
    "name": "ipython",
    "version": 3
   },
   "file_extension": ".py",
   "mimetype": "text/x-python",
   "name": "python",
   "nbconvert_exporter": "python",
   "pygments_lexer": "ipython3",
   "version": "3.10.12"
  }
 },
 "nbformat": 4,
 "nbformat_minor": 2
}
